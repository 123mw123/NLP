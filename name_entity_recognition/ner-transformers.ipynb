{
 "cells": [
  {
   "cell_type": "code",
   "execution_count": 8,
   "metadata": {
    "_cell_guid": "b1076dfc-b9ad-4769-8c92-a6c4dae69d19",
    "_uuid": "8f2839f25d086af736a60e9eeb907d3b93b6e0e5"
   },
   "outputs": [
    {
     "name": "stdout",
     "output_type": "stream",
     "text": [
      "/kaggle/input/glove6b/glove.6B.200d.txt\n",
      "/kaggle/input/glove6b/glove.6B.50d.txt\n",
      "/kaggle/input/glove6b/glove.6B.300d.txt\n",
      "/kaggle/input/glove6b/glove.6B.100d.txt\n",
      "/kaggle/input/entity-annotated-corpus/ner.csv\n",
      "/kaggle/input/entity-annotated-corpus/ner_dataset.csv\n"
     ]
    }
   ],
   "source": [
    "# This Python 3 environment comes with many helpful analytics libraries installed\n",
    "# It is defined by the kaggle/python Docker image: https://github.com/kaggle/docker-python\n",
    "# For example, here's several helpful packages to load\n",
    "\n",
    "import numpy as np # linear algebra\n",
    "import pandas as pd # data processing, CSV file I/O (e.g. pd.read_csv)\n",
    "\n",
    "# Input data files are available in the read-only \"../input/\" directory\n",
    "# For example, running this (by clicking run or pressing Shift+Enter) will list all files under the input directory\n",
    "\n",
    "import os\n",
    "for dirname, _, filenames in os.walk('/kaggle/input'):\n",
    "    for filename in filenames:\n",
    "        print(os.path.join(dirname, filename))\n",
    "\n",
    "# You can write up to 20GB to the current directory (/kaggle/working/) that gets preserved as output when you create a version using \"Save & Run All\" \n",
    "# You can also write temporary files to /kaggle/temp/, but they won't be saved outside of the current session"
   ]
  },
  {
   "cell_type": "code",
   "execution_count": 52,
   "metadata": {},
   "outputs": [],
   "source": [
    "import random\n",
    "import numpy as np\n",
    "import math\n",
    "import os\n",
    "import sys\n",
    "\n",
    "\n",
    "import torch\n",
    "import torch.nn as nn\n",
    "import torch.optim as optim\n",
    "import torch.nn.functional as F\n",
    "from torch.nn import TransformerEncoder, TransformerEncoderLayer"
   ]
  },
  {
   "cell_type": "markdown",
   "metadata": {},
   "source": [
    "# Read Glove Embeddings"
   ]
  },
  {
   "cell_type": "code",
   "execution_count": 10,
   "metadata": {},
   "outputs": [
    {
     "name": "stdout",
     "output_type": "stream",
     "text": [
      "True\n",
      "400000\n"
     ]
    }
   ],
   "source": [
    "GLOVE_DIR = '../input/glove6b/glove.6B.300d.txt'\n",
    "print(os.path.exists(GLOVE_DIR))\n",
    "def read_glove_vecs(glove_file):\n",
    "    with open(glove_file, 'r') as f:\n",
    "        words = set()\n",
    "        word_to_vec_map = {}\n",
    "        for line in f:\n",
    "            line = line.strip().split()\n",
    "            curr_word = line[0]\n",
    "            words.add(curr_word)\n",
    "            word_to_vec_map[curr_word] = np.array(line[1:], dtype=np.float64)\n",
    "        \n",
    "        i = 1\n",
    "        words_to_index = {}\n",
    "        index_to_words = {}\n",
    "        for w in sorted(words):\n",
    "            words_to_index[w] = i\n",
    "            index_to_words[i] = w\n",
    "            i = i + 1\n",
    "    return words_to_index, index_to_words, word_to_vec_map\n",
    "\n",
    "word_to_index, index_to_word, word_to_vec_map = read_glove_vecs(GLOVE_DIR)\n",
    "print(len(word_to_vec_map))"
   ]
  },
  {
   "cell_type": "markdown",
   "metadata": {},
   "source": [
    "# Data Pre-processing"
   ]
  },
  {
   "cell_type": "code",
   "execution_count": 11,
   "metadata": {},
   "outputs": [
    {
     "data": {
      "text/html": [
       "<div>\n",
       "<style scoped>\n",
       "    .dataframe tbody tr th:only-of-type {\n",
       "        vertical-align: middle;\n",
       "    }\n",
       "\n",
       "    .dataframe tbody tr th {\n",
       "        vertical-align: top;\n",
       "    }\n",
       "\n",
       "    .dataframe thead th {\n",
       "        text-align: right;\n",
       "    }\n",
       "</style>\n",
       "<table border=\"1\" class=\"dataframe\">\n",
       "  <thead>\n",
       "    <tr style=\"text-align: right;\">\n",
       "      <th></th>\n",
       "      <th>Sentence #</th>\n",
       "      <th>Word</th>\n",
       "      <th>POS</th>\n",
       "      <th>Tag</th>\n",
       "    </tr>\n",
       "  </thead>\n",
       "  <tbody>\n",
       "    <tr>\n",
       "      <th>0</th>\n",
       "      <td>Sentence: 1</td>\n",
       "      <td>Thousands</td>\n",
       "      <td>NNS</td>\n",
       "      <td>O</td>\n",
       "    </tr>\n",
       "    <tr>\n",
       "      <th>1</th>\n",
       "      <td>NaN</td>\n",
       "      <td>of</td>\n",
       "      <td>IN</td>\n",
       "      <td>O</td>\n",
       "    </tr>\n",
       "    <tr>\n",
       "      <th>2</th>\n",
       "      <td>NaN</td>\n",
       "      <td>demonstrators</td>\n",
       "      <td>NNS</td>\n",
       "      <td>O</td>\n",
       "    </tr>\n",
       "    <tr>\n",
       "      <th>3</th>\n",
       "      <td>NaN</td>\n",
       "      <td>have</td>\n",
       "      <td>VBP</td>\n",
       "      <td>O</td>\n",
       "    </tr>\n",
       "    <tr>\n",
       "      <th>4</th>\n",
       "      <td>NaN</td>\n",
       "      <td>marched</td>\n",
       "      <td>VBN</td>\n",
       "      <td>O</td>\n",
       "    </tr>\n",
       "  </tbody>\n",
       "</table>\n",
       "</div>"
      ],
      "text/plain": [
       "    Sentence #           Word  POS Tag\n",
       "0  Sentence: 1      Thousands  NNS   O\n",
       "1          NaN             of   IN   O\n",
       "2          NaN  demonstrators  NNS   O\n",
       "3          NaN           have  VBP   O\n",
       "4          NaN        marched  VBN   O"
      ]
     },
     "execution_count": 11,
     "metadata": {},
     "output_type": "execute_result"
    }
   ],
   "source": [
    "data = pd.read_csv('../input/entity-annotated-corpus/ner_dataset.csv', encoding= 'unicode_escape')\n",
    "data.head()"
   ]
  },
  {
   "cell_type": "markdown",
   "metadata": {},
   "source": [
    "Mapping B-entity and I-entity to same entity. Training only on PER and GPE"
   ]
  },
  {
   "cell_type": "code",
   "execution_count": 12,
   "metadata": {},
   "outputs": [],
   "source": [
    "label_map = {\n",
    "    \"B-per\":\"per\",\n",
    "    \"I-per\":\"per\",\n",
    "    \"B-eve\":\"O\",\n",
    "    \"I-eve\":\"O\",\n",
    "    \"B-org\":\"O\",\n",
    "    \"I-org\":\"O\",\n",
    "    \"B-art\":\"O\",\n",
    "    \"I-art\":\"O\",\n",
    "    \"B-nat\":\"O\",\n",
    "    \"I-nat\":\"O\",\n",
    "    \"B-gpe\":\"gpe\",\n",
    "    \"I-gpe\":\"gpe\",\n",
    "    \"B-geo\":\"gpe\",\n",
    "    \"I-geo\":\"gpe\",\n",
    "    \"B-tim\":\"O\",\n",
    "    \"I-tim\":\"O\",\n",
    "    \"O\":\"O\",\n",
    "}"
   ]
  },
  {
   "cell_type": "code",
   "execution_count": 13,
   "metadata": {},
   "outputs": [],
   "source": [
    "import string\n",
    "data['Word'] = data['Word'].str.translate(str.maketrans('','',string.punctuation))\n",
    "data['Word'] = data['Word'].str.lower()\n",
    "data['Tag'] = data['Tag'].map(label_map)"
   ]
  },
  {
   "cell_type": "markdown",
   "metadata": {},
   "source": [
    "Compute token2idx, idx2token, tag2idx, idx2tag\n",
    "\n",
    "Below code is from *https://www.kaggle.com/dvircohen0/ner-lstm?scriptVersionId=60236417&cellId=3*"
   ]
  },
  {
   "cell_type": "code",
   "execution_count": 14,
   "metadata": {},
   "outputs": [
    {
     "name": "stdout",
     "output_type": "stream",
     "text": [
      "gpe 61126\n",
      "per 34241\n",
      "O 953208\n"
     ]
    }
   ],
   "source": [
    "from itertools import chain\n",
    "count_tags = {}\n",
    "def get_dict_map(data, token_or_tag):\n",
    "    tok2idx = {}\n",
    "    idx2tok = {}\n",
    "    \n",
    "    if token_or_tag == 'token':\n",
    "        vocab = list(set(data['Word'].to_list()))\n",
    "    else:\n",
    "        vocab = list(set(data['Tag'].to_list()))\n",
    "        for i in vocab:\n",
    "            if i not in count_tags:\n",
    "                count_tags[i]=0\n",
    "        for i in data['Tag'].to_list():\n",
    "            count_tags[i] += 1\n",
    "            \n",
    "    for i in count_tags:\n",
    "        print(i, count_tags[i])\n",
    "    idx2tok = {idx:tok for  idx, tok in enumerate(vocab)}\n",
    "    tok2idx = {tok:idx for  idx, tok in enumerate(vocab)}\n",
    "        \n",
    "    return tok2idx, idx2tok\n",
    "\n",
    "\n",
    "token2idx, idx2token = get_dict_map(data, 'token')\n",
    "tag2idx, idx2tag = get_dict_map(data, 'tag')"
   ]
  },
  {
   "cell_type": "code",
   "execution_count": 15,
   "metadata": {},
   "outputs": [
    {
     "data": {
      "text/html": [
       "<div>\n",
       "<style scoped>\n",
       "    .dataframe tbody tr th:only-of-type {\n",
       "        vertical-align: middle;\n",
       "    }\n",
       "\n",
       "    .dataframe tbody tr th {\n",
       "        vertical-align: top;\n",
       "    }\n",
       "\n",
       "    .dataframe thead th {\n",
       "        text-align: right;\n",
       "    }\n",
       "</style>\n",
       "<table border=\"1\" class=\"dataframe\">\n",
       "  <thead>\n",
       "    <tr style=\"text-align: right;\">\n",
       "      <th></th>\n",
       "      <th>Sentence #</th>\n",
       "      <th>Word</th>\n",
       "      <th>POS</th>\n",
       "      <th>Tag</th>\n",
       "      <th>Word_idx</th>\n",
       "      <th>Tag_idx</th>\n",
       "    </tr>\n",
       "  </thead>\n",
       "  <tbody>\n",
       "    <tr>\n",
       "      <th>0</th>\n",
       "      <td>Sentence: 1</td>\n",
       "      <td>thousands</td>\n",
       "      <td>NNS</td>\n",
       "      <td>O</td>\n",
       "      <td>358481.0</td>\n",
       "      <td>2</td>\n",
       "    </tr>\n",
       "    <tr>\n",
       "      <th>1</th>\n",
       "      <td>NaN</td>\n",
       "      <td>of</td>\n",
       "      <td>IN</td>\n",
       "      <td>O</td>\n",
       "      <td>268046.0</td>\n",
       "      <td>2</td>\n",
       "    </tr>\n",
       "    <tr>\n",
       "      <th>2</th>\n",
       "      <td>NaN</td>\n",
       "      <td>demonstrators</td>\n",
       "      <td>NNS</td>\n",
       "      <td>O</td>\n",
       "      <td>120649.0</td>\n",
       "      <td>2</td>\n",
       "    </tr>\n",
       "    <tr>\n",
       "      <th>3</th>\n",
       "      <td>NaN</td>\n",
       "      <td>have</td>\n",
       "      <td>VBP</td>\n",
       "      <td>O</td>\n",
       "      <td>174642.0</td>\n",
       "      <td>2</td>\n",
       "    </tr>\n",
       "    <tr>\n",
       "      <th>4</th>\n",
       "      <td>NaN</td>\n",
       "      <td>marched</td>\n",
       "      <td>VBN</td>\n",
       "      <td>O</td>\n",
       "      <td>234138.0</td>\n",
       "      <td>2</td>\n",
       "    </tr>\n",
       "  </tbody>\n",
       "</table>\n",
       "</div>"
      ],
      "text/plain": [
       "    Sentence #           Word  POS Tag  Word_idx  Tag_idx\n",
       "0  Sentence: 1      thousands  NNS   O  358481.0        2\n",
       "1          NaN             of   IN   O  268046.0        2\n",
       "2          NaN  demonstrators  NNS   O  120649.0        2\n",
       "3          NaN           have  VBP   O  174642.0        2\n",
       "4          NaN        marched  VBN   O  234138.0        2"
      ]
     },
     "execution_count": 15,
     "metadata": {},
     "output_type": "execute_result"
    }
   ],
   "source": [
    "data['Word_idx'] = data['Word'].map(word_to_index)\n",
    "data['Tag_idx'] = data['Tag'].map(tag2idx)\n",
    "data.head()"
   ]
  },
  {
   "cell_type": "code",
   "execution_count": 16,
   "metadata": {},
   "outputs": [
    {
     "data": {
      "text/html": [
       "<div>\n",
       "<style scoped>\n",
       "    .dataframe tbody tr th:only-of-type {\n",
       "        vertical-align: middle;\n",
       "    }\n",
       "\n",
       "    .dataframe tbody tr th {\n",
       "        vertical-align: top;\n",
       "    }\n",
       "\n",
       "    .dataframe thead th {\n",
       "        text-align: right;\n",
       "    }\n",
       "</style>\n",
       "<table border=\"1\" class=\"dataframe\">\n",
       "  <thead>\n",
       "    <tr style=\"text-align: right;\">\n",
       "      <th></th>\n",
       "      <th>Sentence #</th>\n",
       "      <th>Word</th>\n",
       "      <th>POS</th>\n",
       "      <th>Tag</th>\n",
       "      <th>Word_idx</th>\n",
       "      <th>Tag_idx</th>\n",
       "    </tr>\n",
       "  </thead>\n",
       "  <tbody>\n",
       "    <tr>\n",
       "      <th>0</th>\n",
       "      <td>Sentence: 1</td>\n",
       "      <td>[thousands, of, demonstrators, have, marched, ...</td>\n",
       "      <td>[NNS, IN, NNS, VBP, VBN, IN, NNP, TO, VB, DT, ...</td>\n",
       "      <td>[O, O, O, O, O, O, gpe, O, O, O, O, O, gpe, O,...</td>\n",
       "      <td>[358481.0, 268046.0, 120649.0, 174642.0, 23413...</td>\n",
       "      <td>[2, 2, 2, 2, 2, 2, 0, 2, 2, 2, 2, 2, 0, 2, 2, ...</td>\n",
       "    </tr>\n",
       "    <tr>\n",
       "      <th>1</th>\n",
       "      <td>Sentence: 10</td>\n",
       "      <td>[iranian, officials, say, they, expect, to, ge...</td>\n",
       "      <td>[JJ, NNS, VBP, PRP, VBP, TO, VB, NN, TO, JJ, J...</td>\n",
       "      <td>[gpe, O, O, O, O, O, O, O, O, O, O, O, O, O, O...</td>\n",
       "      <td>[192569.0, 268225.0, 319691.0, 357810.0, 14275...</td>\n",
       "      <td>[0, 2, 2, 2, 2, 2, 2, 2, 2, 2, 2, 2, 2, 2, 2, ...</td>\n",
       "    </tr>\n",
       "    <tr>\n",
       "      <th>2</th>\n",
       "      <td>Sentence: 100</td>\n",
       "      <td>[helicopter, gunships, saturday, pounded, mili...</td>\n",
       "      <td>[NN, NNS, NNP, VBD, JJ, NNS, IN, DT, NNP, JJ, ...</td>\n",
       "      <td>[O, O, O, O, O, O, O, O, gpe, O, O, O, O, O, O...</td>\n",
       "      <td>[176329.0, 169259.0, 319134.0, 290058.0, 24443...</td>\n",
       "      <td>[2, 2, 2, 2, 2, 2, 2, 2, 0, 2, 2, 2, 2, 2, 2, ...</td>\n",
       "    </tr>\n",
       "    <tr>\n",
       "      <th>3</th>\n",
       "      <td>Sentence: 1000</td>\n",
       "      <td>[they, left, after, a, tense, hourlong, stando...</td>\n",
       "      <td>[PRP, VBD, IN, DT, NN, JJ, NN, IN, NN, NNS, .]</td>\n",
       "      <td>[O, O, O, O, O, O, O, O, O, O, O]</td>\n",
       "      <td>[357810.0, 219577.0, 47798.0, 43010.0, 355882....</td>\n",
       "      <td>[2, 2, 2, 2, 2, 2, 2, 2, 2, 2, 2]</td>\n",
       "    </tr>\n",
       "    <tr>\n",
       "      <th>4</th>\n",
       "      <td>Sentence: 10000</td>\n",
       "      <td>[un, relief, coordinator, jan, egeland, said, ...</td>\n",
       "      <td>[NNP, NN, NN, NNP, NNP, VBD, NNP, ,, NNP, ,, J...</td>\n",
       "      <td>[gpe, O, O, per, per, O, O, O, gpe, O, gpe, O,...</td>\n",
       "      <td>[370622.0, 305053.0, 108674.0, 195458.0, 13404...</td>\n",
       "      <td>[0, 2, 2, 1, 1, 2, 2, 2, 0, 2, 0, 2, 0, 2, 2, ...</td>\n",
       "    </tr>\n",
       "  </tbody>\n",
       "</table>\n",
       "</div>"
      ],
      "text/plain": [
       "        Sentence #                                               Word  \\\n",
       "0      Sentence: 1  [thousands, of, demonstrators, have, marched, ...   \n",
       "1     Sentence: 10  [iranian, officials, say, they, expect, to, ge...   \n",
       "2    Sentence: 100  [helicopter, gunships, saturday, pounded, mili...   \n",
       "3   Sentence: 1000  [they, left, after, a, tense, hourlong, stando...   \n",
       "4  Sentence: 10000  [un, relief, coordinator, jan, egeland, said, ...   \n",
       "\n",
       "                                                 POS  \\\n",
       "0  [NNS, IN, NNS, VBP, VBN, IN, NNP, TO, VB, DT, ...   \n",
       "1  [JJ, NNS, VBP, PRP, VBP, TO, VB, NN, TO, JJ, J...   \n",
       "2  [NN, NNS, NNP, VBD, JJ, NNS, IN, DT, NNP, JJ, ...   \n",
       "3     [PRP, VBD, IN, DT, NN, JJ, NN, IN, NN, NNS, .]   \n",
       "4  [NNP, NN, NN, NNP, NNP, VBD, NNP, ,, NNP, ,, J...   \n",
       "\n",
       "                                                 Tag  \\\n",
       "0  [O, O, O, O, O, O, gpe, O, O, O, O, O, gpe, O,...   \n",
       "1  [gpe, O, O, O, O, O, O, O, O, O, O, O, O, O, O...   \n",
       "2  [O, O, O, O, O, O, O, O, gpe, O, O, O, O, O, O...   \n",
       "3                  [O, O, O, O, O, O, O, O, O, O, O]   \n",
       "4  [gpe, O, O, per, per, O, O, O, gpe, O, gpe, O,...   \n",
       "\n",
       "                                            Word_idx  \\\n",
       "0  [358481.0, 268046.0, 120649.0, 174642.0, 23413...   \n",
       "1  [192569.0, 268225.0, 319691.0, 357810.0, 14275...   \n",
       "2  [176329.0, 169259.0, 319134.0, 290058.0, 24443...   \n",
       "3  [357810.0, 219577.0, 47798.0, 43010.0, 355882....   \n",
       "4  [370622.0, 305053.0, 108674.0, 195458.0, 13404...   \n",
       "\n",
       "                                             Tag_idx  \n",
       "0  [2, 2, 2, 2, 2, 2, 0, 2, 2, 2, 2, 2, 0, 2, 2, ...  \n",
       "1  [0, 2, 2, 2, 2, 2, 2, 2, 2, 2, 2, 2, 2, 2, 2, ...  \n",
       "2  [2, 2, 2, 2, 2, 2, 2, 2, 0, 2, 2, 2, 2, 2, 2, ...  \n",
       "3                  [2, 2, 2, 2, 2, 2, 2, 2, 2, 2, 2]  \n",
       "4  [0, 2, 2, 1, 1, 2, 2, 2, 0, 2, 0, 2, 0, 2, 2, ...  "
      ]
     },
     "execution_count": 16,
     "metadata": {},
     "output_type": "execute_result"
    }
   ],
   "source": [
    "data_fillna = data.fillna(method='ffill', axis=0)\n",
    "data_group = data_fillna.groupby(\n",
    "['Sentence #'],as_index=False\n",
    ")[['Word', 'POS', 'Tag', 'Word_idx', 'Tag_idx']].agg(lambda x: list(x))\n",
    "data_group.head()"
   ]
  },
  {
   "cell_type": "markdown",
   "metadata": {},
   "source": [
    "Split the data into train and test set in 8:2 ratio"
   ]
  },
  {
   "cell_type": "code",
   "execution_count": 17,
   "metadata": {},
   "outputs": [
    {
     "name": "stdout",
     "output_type": "stream",
     "text": [
      "47959 47959\n"
     ]
    }
   ],
   "source": [
    "tokens = data_group['Word_idx'].tolist()\n",
    "tags = data_group['Tag_idx'].tolist()\n",
    "print(len(tokens), len(tags))"
   ]
  },
  {
   "cell_type": "code",
   "execution_count": 18,
   "metadata": {},
   "outputs": [
    {
     "name": "stdout",
     "output_type": "stream",
     "text": [
      "Train set size 45561\n",
      "Val set size 2398\n"
     ]
    }
   ],
   "source": [
    "train_tokens = []\n",
    "val_tokens = []\n",
    "train_tags = []\n",
    "val_tags = []\n",
    "indices = list(range(len(tokens)))\n",
    "random.shuffle(indices)\n",
    "for i in indices:\n",
    "    assert len(tokens[i]) == len(tags[i])\n",
    "    if i%20!=0:\n",
    "        train_tokens.append(tokens[i])\n",
    "        train_tags.append(tags[i])\n",
    "    else:\n",
    "        val_tokens.append(tokens[i])\n",
    "        val_tags.append(tags[i])\n",
    "print(\"Train set size\", len(train_tokens))\n",
    "print(\"Val set size\", len(val_tokens))"
   ]
  },
  {
   "cell_type": "code",
   "execution_count": 19,
   "metadata": {},
   "outputs": [
    {
     "name": "stdout",
     "output_type": "stream",
     "text": [
      "400000 3\n"
     ]
    }
   ],
   "source": [
    "unique_tokens = len(word_to_index) # len(list(set(data['Word'].to_list())))\n",
    "unique_tags = len(list(set(data['Tag'].to_list())))\n",
    "PAD_IDX = unique_tokens+1\n",
    "print(unique_tokens, unique_tags)"
   ]
  },
  {
   "cell_type": "code",
   "execution_count": 20,
   "metadata": {},
   "outputs": [],
   "source": []
  },
  {
   "cell_type": "markdown",
   "metadata": {},
   "source": [
    "# Data Iterator\n",
    "\n",
    "Pad the input using PAD_IDX. Pad the output with -1. After this function all the sequences within a batch will have same length"
   ]
  },
  {
   "cell_type": "code",
   "execution_count": 21,
   "metadata": {},
   "outputs": [],
   "source": [
    "def data_iterator(tokens, tags, batch_size, shuffle=False):\n",
    "    order = list(range(len(tokens)))\n",
    "    for i in range((len(tokens)+1)//batch_size):\n",
    "        batch_sentences = [tokens[idx] for idx in order[i*batch_size:(i+1)*batch_size]]\n",
    "        batch_tags = [tags[idx] for idx in order[i*batch_size:(i+1)*batch_size]]\n",
    "        \n",
    "        batch_max_len = max([len(s) for s in batch_sentences])\n",
    "\n",
    "        batch_data = PAD_IDX*np.ones((len(batch_sentences), batch_max_len))\n",
    "        batch_labels = -1*np.ones((len(batch_sentences), batch_max_len))\n",
    "\n",
    "        for j in range(len(batch_sentences)):\n",
    "            cur_len = len(batch_sentences[j])\n",
    "            batch_data[j][:cur_len] = batch_sentences[j]\n",
    "            batch_labels[j][:cur_len] = batch_tags[j]\n",
    "\n",
    "        batch_data, batch_labels = torch.LongTensor(batch_data), torch.LongTensor(batch_labels)\n",
    "        batch_data = batch_data.transpose(0, 1).contiguous()\n",
    "        batch_labels = batch_labels.transpose(0, 1).contiguous()\n",
    "    \n",
    "        batch_data, batch_labels = batch_data.cuda(), batch_labels.cuda()\n",
    "        yield batch_data, batch_labels"
   ]
  },
  {
   "cell_type": "code",
   "execution_count": 22,
   "metadata": {},
   "outputs": [
    {
     "name": "stdout",
     "output_type": "stream",
     "text": [
      "torch.Size([26, 4]) torch.Size([26, 4])\n"
     ]
    }
   ],
   "source": [
    "train_data_iterator =  data_iterator(train_tokens, train_tags,4, shuffle=True)\n",
    "train_batch, labels_batch = next(train_data_iterator)\n",
    "print(train_batch.shape, labels_batch.shape)"
   ]
  },
  {
   "cell_type": "markdown",
   "metadata": {},
   "source": [
    "# Load Glove Embeddings"
   ]
  },
  {
   "cell_type": "code",
   "execution_count": 23,
   "metadata": {},
   "outputs": [
    {
     "name": "stdout",
     "output_type": "stream",
     "text": [
      "(400002, 300)\n"
     ]
    }
   ],
   "source": [
    "vocab_len = len(word_to_index) + 2            \n",
    "emb_dim = word_to_vec_map[\"cucumber\"].shape[0]  \n",
    "emb_matrix = np.zeros((vocab_len, emb_dim))\n",
    "for word, index in word_to_index.items():\n",
    "    emb_matrix[index, :] = word_to_vec_map[word]\n",
    "print(emb_matrix.shape)"
   ]
  },
  {
   "cell_type": "code",
   "execution_count": 24,
   "metadata": {},
   "outputs": [],
   "source": [
    "emb_matrix = torch.FloatTensor(emb_matrix)\n",
    "embedding = torch.nn.Embedding.from_pretrained(emb_matrix,freeze=True)"
   ]
  },
  {
   "cell_type": "markdown",
   "metadata": {},
   "source": [
    "# Transformer Model"
   ]
  },
  {
   "cell_type": "code",
   "execution_count": 25,
   "metadata": {},
   "outputs": [],
   "source": [
    "class TransformerModel(nn.Module):\n",
    "    def __init__(self, vocab_size, embedding_size, num_heads, hidden_dim, num_layers, num_labels, pad_idx, dropout=0.5, device=\"cuda\"):\n",
    "        super(TransformerModel, self).__init__()\n",
    "        self.model_type = 'Transformer'\n",
    "        self.encoder = embedding # nn.Embedding(vocab_size, embedding_size)\n",
    "        self.pos_encoder = PositionalEncoding(embedding_size, dropout)\n",
    "        encoder_layers = TransformerEncoderLayer(embedding_size, num_heads, hidden_dim, dropout)\n",
    "        self.transformer_encoder = TransformerEncoder(encoder_layers, num_layers)\n",
    "        self.fc_out = nn.Linear(embedding_size, num_labels)\n",
    "        self.dropout = nn.Dropout(dropout)\n",
    "        self.pad_idx = pad_idx\n",
    "        self.embedding_size = embedding_size\n",
    "        self.device = device\n",
    "\n",
    "\n",
    "    def make_src_mask(self, src):\n",
    "        # use src_mask to ignore pad indices embeddings while computing self-attention output\n",
    "        src_mask = src.transpose(0, 1) == self.pad_idx\n",
    "        return src_mask.to(self.device)\n",
    "\n",
    "    def forward(self, src):\n",
    "        src_mask = self.make_src_mask(src)\n",
    "        src = self.encoder(src) * math.sqrt(self.embedding_size)\n",
    "        src = self.pos_encoder(src)\n",
    "        output = self.transformer_encoder(src, src_key_padding_mask=src_mask)\n",
    "        output = self.fc_out(output)\n",
    "        return output\n"
   ]
  },
  {
   "cell_type": "code",
   "execution_count": 26,
   "metadata": {},
   "outputs": [],
   "source": [
    "class PositionalEncoding(nn.Module):\n",
    "    def __init__(self, d_model, dropout=0.1, max_len=5000):\n",
    "        super(PositionalEncoding, self).__init__()\n",
    "        self.dropout = nn.Dropout(p=dropout)\n",
    "\n",
    "        pe = torch.zeros(max_len, d_model)\n",
    "        position = torch.arange(0, max_len, dtype=torch.float).unsqueeze(1)\n",
    "        div_term = torch.exp(torch.arange(0, d_model, 2).float() * (-math.log(10000.0) / d_model))\n",
    "        pe[:, 0::2] = torch.sin(position * div_term)\n",
    "        pe[:, 1::2] = torch.cos(position * div_term)\n",
    "        pe = pe.unsqueeze(0).transpose(0, 1)\n",
    "        self.register_buffer('pe', pe)\n",
    "\n",
    "    def forward(self, x):\n",
    "        x = x + self.pe[:x.size(0), :]\n",
    "        return self.dropout(x)"
   ]
  },
  {
   "cell_type": "code",
   "execution_count": 27,
   "metadata": {},
   "outputs": [],
   "source": [
    "device = torch.device(\"cuda\" if torch.cuda.is_available() else \"cpu\")\n",
    "vocab_size = len(word_to_index) + 2\n",
    "num_classes = unique_tags\n",
    "embedding_size = 300\n",
    "num_heads = 6\n",
    "num_layers = 6\n",
    "dropout = 0.0\n",
    "hidden_dim = 2048"
   ]
  },
  {
   "cell_type": "code",
   "execution_count": 28,
   "metadata": {},
   "outputs": [],
   "source": [
    "model = TransformerModel(vocab_size, embedding_size, num_heads,hidden_dim, num_layers, num_classes, PAD_IDX, dropout, device).to(device)"
   ]
  },
  {
   "cell_type": "code",
   "execution_count": 29,
   "metadata": {},
   "outputs": [
    {
     "name": "stdout",
     "output_type": "stream",
     "text": [
      "Collecting torchsummaryX\n",
      "  Downloading torchsummaryX-1.3.0-py3-none-any.whl (3.6 kB)\n",
      "Requirement already satisfied: torch in /opt/conda/lib/python3.7/site-packages (from torchsummaryX) (1.7.0)\n",
      "Requirement already satisfied: numpy in /opt/conda/lib/python3.7/site-packages (from torchsummaryX) (1.19.5)\n",
      "Requirement already satisfied: pandas in /opt/conda/lib/python3.7/site-packages (from torchsummaryX) (1.1.5)\n",
      "Requirement already satisfied: python-dateutil>=2.7.3 in /opt/conda/lib/python3.7/site-packages (from pandas->torchsummaryX) (2.8.1)\n",
      "Requirement already satisfied: pytz>=2017.2 in /opt/conda/lib/python3.7/site-packages (from pandas->torchsummaryX) (2021.1)\n",
      "Requirement already satisfied: six>=1.5 in /opt/conda/lib/python3.7/site-packages (from python-dateutil>=2.7.3->pandas->torchsummaryX) (1.15.0)\n",
      "Requirement already satisfied: future in /opt/conda/lib/python3.7/site-packages (from torch->torchsummaryX) (0.18.2)\n",
      "Requirement already satisfied: typing_extensions in /opt/conda/lib/python3.7/site-packages (from torch->torchsummaryX) (3.7.4.3)\n",
      "Requirement already satisfied: dataclasses in /opt/conda/lib/python3.7/site-packages (from torch->torchsummaryX) (0.6)\n",
      "Installing collected packages: torchsummaryX\n",
      "Successfully installed torchsummaryX-1.3.0\n"
     ]
    }
   ],
   "source": [
    "!pip install torchsummaryX"
   ]
  },
  {
   "cell_type": "code",
   "execution_count": 30,
   "metadata": {},
   "outputs": [
    {
     "name": "stdout",
     "output_type": "stream",
     "text": [
      "===================================================================================================\n",
      "                                                   Kernel Shape  \\\n",
      "Layer                                                             \n",
      "0_encoder                                         [300, 400002]   \n",
      "1_pos_encoder.Dropout_dropout                                 -   \n",
      "2_transformer_encoder.layers.0.Dropout_dropout1               -   \n",
      "3_transformer_encoder.layers.0.LayerNorm_norm1            [300]   \n",
      "4_transformer_encoder.layers.0.Linear_linear1       [300, 2048]   \n",
      "5_transformer_encoder.layers.0.Dropout_dropout                -   \n",
      "6_transformer_encoder.layers.0.Linear_linear2       [2048, 300]   \n",
      "7_transformer_encoder.layers.0.Dropout_dropout2               -   \n",
      "8_transformer_encoder.layers.0.LayerNorm_norm2            [300]   \n",
      "9_transformer_encoder.layers.1.Dropout_dropout1               -   \n",
      "10_transformer_encoder.layers.1.LayerNorm_norm1           [300]   \n",
      "11_transformer_encoder.layers.1.Linear_linear1      [300, 2048]   \n",
      "12_transformer_encoder.layers.1.Dropout_dropout               -   \n",
      "13_transformer_encoder.layers.1.Linear_linear2      [2048, 300]   \n",
      "14_transformer_encoder.layers.1.Dropout_dropout2              -   \n",
      "15_transformer_encoder.layers.1.LayerNorm_norm2           [300]   \n",
      "16_transformer_encoder.layers.2.Dropout_dropout1              -   \n",
      "17_transformer_encoder.layers.2.LayerNorm_norm1           [300]   \n",
      "18_transformer_encoder.layers.2.Linear_linear1      [300, 2048]   \n",
      "19_transformer_encoder.layers.2.Dropout_dropout               -   \n",
      "20_transformer_encoder.layers.2.Linear_linear2      [2048, 300]   \n",
      "21_transformer_encoder.layers.2.Dropout_dropout2              -   \n",
      "22_transformer_encoder.layers.2.LayerNorm_norm2           [300]   \n",
      "23_transformer_encoder.layers.3.Dropout_dropout1              -   \n",
      "24_transformer_encoder.layers.3.LayerNorm_norm1           [300]   \n",
      "25_transformer_encoder.layers.3.Linear_linear1      [300, 2048]   \n",
      "26_transformer_encoder.layers.3.Dropout_dropout               -   \n",
      "27_transformer_encoder.layers.3.Linear_linear2      [2048, 300]   \n",
      "28_transformer_encoder.layers.3.Dropout_dropout2              -   \n",
      "29_transformer_encoder.layers.3.LayerNorm_norm2           [300]   \n",
      "30_transformer_encoder.layers.4.Dropout_dropout1              -   \n",
      "31_transformer_encoder.layers.4.LayerNorm_norm1           [300]   \n",
      "32_transformer_encoder.layers.4.Linear_linear1      [300, 2048]   \n",
      "33_transformer_encoder.layers.4.Dropout_dropout               -   \n",
      "34_transformer_encoder.layers.4.Linear_linear2      [2048, 300]   \n",
      "35_transformer_encoder.layers.4.Dropout_dropout2              -   \n",
      "36_transformer_encoder.layers.4.LayerNorm_norm2           [300]   \n",
      "37_transformer_encoder.layers.5.Dropout_dropout1              -   \n",
      "38_transformer_encoder.layers.5.LayerNorm_norm1           [300]   \n",
      "39_transformer_encoder.layers.5.Linear_linear1      [300, 2048]   \n",
      "40_transformer_encoder.layers.5.Dropout_dropout               -   \n",
      "41_transformer_encoder.layers.5.Linear_linear2      [2048, 300]   \n",
      "42_transformer_encoder.layers.5.Dropout_dropout2              -   \n",
      "43_transformer_encoder.layers.5.LayerNorm_norm2           [300]   \n",
      "44_fc_out                                              [300, 3]   \n",
      "\n",
      "                                                   Output Shape    Params  \\\n",
      "Layer                                                                       \n",
      "0_encoder                                          [20, 4, 300]         -   \n",
      "1_pos_encoder.Dropout_dropout                      [20, 4, 300]         -   \n",
      "2_transformer_encoder.layers.0.Dropout_dropout1    [20, 4, 300]         -   \n",
      "3_transformer_encoder.layers.0.LayerNorm_norm1     [20, 4, 300]     600.0   \n",
      "4_transformer_encoder.layers.0.Linear_linear1     [20, 4, 2048]  616.448k   \n",
      "5_transformer_encoder.layers.0.Dropout_dropout    [20, 4, 2048]         -   \n",
      "6_transformer_encoder.layers.0.Linear_linear2      [20, 4, 300]    614.7k   \n",
      "7_transformer_encoder.layers.0.Dropout_dropout2    [20, 4, 300]         -   \n",
      "8_transformer_encoder.layers.0.LayerNorm_norm2     [20, 4, 300]     600.0   \n",
      "9_transformer_encoder.layers.1.Dropout_dropout1    [20, 4, 300]         -   \n",
      "10_transformer_encoder.layers.1.LayerNorm_norm1    [20, 4, 300]     600.0   \n",
      "11_transformer_encoder.layers.1.Linear_linear1    [20, 4, 2048]  616.448k   \n",
      "12_transformer_encoder.layers.1.Dropout_dropout   [20, 4, 2048]         -   \n",
      "13_transformer_encoder.layers.1.Linear_linear2     [20, 4, 300]    614.7k   \n",
      "14_transformer_encoder.layers.1.Dropout_dropout2   [20, 4, 300]         -   \n",
      "15_transformer_encoder.layers.1.LayerNorm_norm2    [20, 4, 300]     600.0   \n",
      "16_transformer_encoder.layers.2.Dropout_dropout1   [20, 4, 300]         -   \n",
      "17_transformer_encoder.layers.2.LayerNorm_norm1    [20, 4, 300]     600.0   \n",
      "18_transformer_encoder.layers.2.Linear_linear1    [20, 4, 2048]  616.448k   \n",
      "19_transformer_encoder.layers.2.Dropout_dropout   [20, 4, 2048]         -   \n",
      "20_transformer_encoder.layers.2.Linear_linear2     [20, 4, 300]    614.7k   \n",
      "21_transformer_encoder.layers.2.Dropout_dropout2   [20, 4, 300]         -   \n",
      "22_transformer_encoder.layers.2.LayerNorm_norm2    [20, 4, 300]     600.0   \n",
      "23_transformer_encoder.layers.3.Dropout_dropout1   [20, 4, 300]         -   \n",
      "24_transformer_encoder.layers.3.LayerNorm_norm1    [20, 4, 300]     600.0   \n",
      "25_transformer_encoder.layers.3.Linear_linear1    [20, 4, 2048]  616.448k   \n",
      "26_transformer_encoder.layers.3.Dropout_dropout   [20, 4, 2048]         -   \n",
      "27_transformer_encoder.layers.3.Linear_linear2     [20, 4, 300]    614.7k   \n",
      "28_transformer_encoder.layers.3.Dropout_dropout2   [20, 4, 300]         -   \n",
      "29_transformer_encoder.layers.3.LayerNorm_norm2    [20, 4, 300]     600.0   \n",
      "30_transformer_encoder.layers.4.Dropout_dropout1   [20, 4, 300]         -   \n",
      "31_transformer_encoder.layers.4.LayerNorm_norm1    [20, 4, 300]     600.0   \n",
      "32_transformer_encoder.layers.4.Linear_linear1    [20, 4, 2048]  616.448k   \n",
      "33_transformer_encoder.layers.4.Dropout_dropout   [20, 4, 2048]         -   \n",
      "34_transformer_encoder.layers.4.Linear_linear2     [20, 4, 300]    614.7k   \n",
      "35_transformer_encoder.layers.4.Dropout_dropout2   [20, 4, 300]         -   \n",
      "36_transformer_encoder.layers.4.LayerNorm_norm2    [20, 4, 300]     600.0   \n",
      "37_transformer_encoder.layers.5.Dropout_dropout1   [20, 4, 300]         -   \n",
      "38_transformer_encoder.layers.5.LayerNorm_norm1    [20, 4, 300]     600.0   \n",
      "39_transformer_encoder.layers.5.Linear_linear1    [20, 4, 2048]  616.448k   \n",
      "40_transformer_encoder.layers.5.Dropout_dropout   [20, 4, 2048]         -   \n",
      "41_transformer_encoder.layers.5.Linear_linear2     [20, 4, 300]    614.7k   \n",
      "42_transformer_encoder.layers.5.Dropout_dropout2   [20, 4, 300]         -   \n",
      "43_transformer_encoder.layers.5.LayerNorm_norm2    [20, 4, 300]     600.0   \n",
      "44_fc_out                                            [20, 4, 3]     903.0   \n",
      "\n",
      "                                                 Mult-Adds  \n",
      "Layer                                                       \n",
      "0_encoder                                                -  \n",
      "1_pos_encoder.Dropout_dropout                            -  \n",
      "2_transformer_encoder.layers.0.Dropout_dropout1          -  \n",
      "3_transformer_encoder.layers.0.LayerNorm_norm1       300.0  \n",
      "4_transformer_encoder.layers.0.Linear_linear1       614.4k  \n",
      "5_transformer_encoder.layers.0.Dropout_dropout           -  \n",
      "6_transformer_encoder.layers.0.Linear_linear2       614.4k  \n",
      "7_transformer_encoder.layers.0.Dropout_dropout2          -  \n",
      "8_transformer_encoder.layers.0.LayerNorm_norm2       300.0  \n",
      "9_transformer_encoder.layers.1.Dropout_dropout1          -  \n",
      "10_transformer_encoder.layers.1.LayerNorm_norm1      300.0  \n",
      "11_transformer_encoder.layers.1.Linear_linear1      614.4k  \n",
      "12_transformer_encoder.layers.1.Dropout_dropout          -  \n",
      "13_transformer_encoder.layers.1.Linear_linear2      614.4k  \n",
      "14_transformer_encoder.layers.1.Dropout_dropout2         -  \n",
      "15_transformer_encoder.layers.1.LayerNorm_norm2      300.0  \n",
      "16_transformer_encoder.layers.2.Dropout_dropout1         -  \n",
      "17_transformer_encoder.layers.2.LayerNorm_norm1      300.0  \n",
      "18_transformer_encoder.layers.2.Linear_linear1      614.4k  \n",
      "19_transformer_encoder.layers.2.Dropout_dropout          -  \n",
      "20_transformer_encoder.layers.2.Linear_linear2      614.4k  \n",
      "21_transformer_encoder.layers.2.Dropout_dropout2         -  \n",
      "22_transformer_encoder.layers.2.LayerNorm_norm2      300.0  \n",
      "23_transformer_encoder.layers.3.Dropout_dropout1         -  \n",
      "24_transformer_encoder.layers.3.LayerNorm_norm1      300.0  \n",
      "25_transformer_encoder.layers.3.Linear_linear1      614.4k  \n",
      "26_transformer_encoder.layers.3.Dropout_dropout          -  \n",
      "27_transformer_encoder.layers.3.Linear_linear2      614.4k  \n",
      "28_transformer_encoder.layers.3.Dropout_dropout2         -  \n",
      "29_transformer_encoder.layers.3.LayerNorm_norm2      300.0  \n",
      "30_transformer_encoder.layers.4.Dropout_dropout1         -  \n",
      "31_transformer_encoder.layers.4.LayerNorm_norm1      300.0  \n",
      "32_transformer_encoder.layers.4.Linear_linear1      614.4k  \n",
      "33_transformer_encoder.layers.4.Dropout_dropout          -  \n",
      "34_transformer_encoder.layers.4.Linear_linear2      614.4k  \n",
      "35_transformer_encoder.layers.4.Dropout_dropout2         -  \n",
      "36_transformer_encoder.layers.4.LayerNorm_norm2      300.0  \n",
      "37_transformer_encoder.layers.5.Dropout_dropout1         -  \n",
      "38_transformer_encoder.layers.5.LayerNorm_norm1      300.0  \n",
      "39_transformer_encoder.layers.5.Linear_linear1      614.4k  \n",
      "40_transformer_encoder.layers.5.Dropout_dropout          -  \n",
      "41_transformer_encoder.layers.5.Linear_linear2      614.4k  \n",
      "42_transformer_encoder.layers.5.Dropout_dropout2         -  \n",
      "43_transformer_encoder.layers.5.LayerNorm_norm2      300.0  \n",
      "44_fc_out                                            900.0  \n",
      "---------------------------------------------------------------------------------------------------\n",
      "                           Totals\n",
      "Total params          127.395591M\n",
      "Trainable params        7.394991M\n",
      "Non-trainable params    120.0006M\n",
      "Mult-Adds                 7.3773M\n",
      "===================================================================================================\n"
     ]
    },
    {
     "data": {
      "text/html": [
       "<div>\n",
       "<style scoped>\n",
       "    .dataframe tbody tr th:only-of-type {\n",
       "        vertical-align: middle;\n",
       "    }\n",
       "\n",
       "    .dataframe tbody tr th {\n",
       "        vertical-align: top;\n",
       "    }\n",
       "\n",
       "    .dataframe thead th {\n",
       "        text-align: right;\n",
       "    }\n",
       "</style>\n",
       "<table border=\"1\" class=\"dataframe\">\n",
       "  <thead>\n",
       "    <tr style=\"text-align: right;\">\n",
       "      <th></th>\n",
       "      <th>Kernel Shape</th>\n",
       "      <th>Output Shape</th>\n",
       "      <th>Params</th>\n",
       "      <th>Mult-Adds</th>\n",
       "    </tr>\n",
       "    <tr>\n",
       "      <th>Layer</th>\n",
       "      <th></th>\n",
       "      <th></th>\n",
       "      <th></th>\n",
       "      <th></th>\n",
       "    </tr>\n",
       "  </thead>\n",
       "  <tbody>\n",
       "    <tr>\n",
       "      <th>0_encoder</th>\n",
       "      <td>[300, 400002]</td>\n",
       "      <td>[20, 4, 300]</td>\n",
       "      <td>NaN</td>\n",
       "      <td>NaN</td>\n",
       "    </tr>\n",
       "    <tr>\n",
       "      <th>1_pos_encoder.Dropout_dropout</th>\n",
       "      <td>-</td>\n",
       "      <td>[20, 4, 300]</td>\n",
       "      <td>NaN</td>\n",
       "      <td>NaN</td>\n",
       "    </tr>\n",
       "    <tr>\n",
       "      <th>2_transformer_encoder.layers.0.Dropout_dropout1</th>\n",
       "      <td>-</td>\n",
       "      <td>[20, 4, 300]</td>\n",
       "      <td>NaN</td>\n",
       "      <td>NaN</td>\n",
       "    </tr>\n",
       "    <tr>\n",
       "      <th>3_transformer_encoder.layers.0.LayerNorm_norm1</th>\n",
       "      <td>[300]</td>\n",
       "      <td>[20, 4, 300]</td>\n",
       "      <td>600.0</td>\n",
       "      <td>300.0</td>\n",
       "    </tr>\n",
       "    <tr>\n",
       "      <th>4_transformer_encoder.layers.0.Linear_linear1</th>\n",
       "      <td>[300, 2048]</td>\n",
       "      <td>[20, 4, 2048]</td>\n",
       "      <td>616448.0</td>\n",
       "      <td>614400.0</td>\n",
       "    </tr>\n",
       "    <tr>\n",
       "      <th>5_transformer_encoder.layers.0.Dropout_dropout</th>\n",
       "      <td>-</td>\n",
       "      <td>[20, 4, 2048]</td>\n",
       "      <td>NaN</td>\n",
       "      <td>NaN</td>\n",
       "    </tr>\n",
       "    <tr>\n",
       "      <th>6_transformer_encoder.layers.0.Linear_linear2</th>\n",
       "      <td>[2048, 300]</td>\n",
       "      <td>[20, 4, 300]</td>\n",
       "      <td>614700.0</td>\n",
       "      <td>614400.0</td>\n",
       "    </tr>\n",
       "    <tr>\n",
       "      <th>7_transformer_encoder.layers.0.Dropout_dropout2</th>\n",
       "      <td>-</td>\n",
       "      <td>[20, 4, 300]</td>\n",
       "      <td>NaN</td>\n",
       "      <td>NaN</td>\n",
       "    </tr>\n",
       "    <tr>\n",
       "      <th>8_transformer_encoder.layers.0.LayerNorm_norm2</th>\n",
       "      <td>[300]</td>\n",
       "      <td>[20, 4, 300]</td>\n",
       "      <td>600.0</td>\n",
       "      <td>300.0</td>\n",
       "    </tr>\n",
       "    <tr>\n",
       "      <th>9_transformer_encoder.layers.1.Dropout_dropout1</th>\n",
       "      <td>-</td>\n",
       "      <td>[20, 4, 300]</td>\n",
       "      <td>NaN</td>\n",
       "      <td>NaN</td>\n",
       "    </tr>\n",
       "    <tr>\n",
       "      <th>10_transformer_encoder.layers.1.LayerNorm_norm1</th>\n",
       "      <td>[300]</td>\n",
       "      <td>[20, 4, 300]</td>\n",
       "      <td>600.0</td>\n",
       "      <td>300.0</td>\n",
       "    </tr>\n",
       "    <tr>\n",
       "      <th>11_transformer_encoder.layers.1.Linear_linear1</th>\n",
       "      <td>[300, 2048]</td>\n",
       "      <td>[20, 4, 2048]</td>\n",
       "      <td>616448.0</td>\n",
       "      <td>614400.0</td>\n",
       "    </tr>\n",
       "    <tr>\n",
       "      <th>12_transformer_encoder.layers.1.Dropout_dropout</th>\n",
       "      <td>-</td>\n",
       "      <td>[20, 4, 2048]</td>\n",
       "      <td>NaN</td>\n",
       "      <td>NaN</td>\n",
       "    </tr>\n",
       "    <tr>\n",
       "      <th>13_transformer_encoder.layers.1.Linear_linear2</th>\n",
       "      <td>[2048, 300]</td>\n",
       "      <td>[20, 4, 300]</td>\n",
       "      <td>614700.0</td>\n",
       "      <td>614400.0</td>\n",
       "    </tr>\n",
       "    <tr>\n",
       "      <th>14_transformer_encoder.layers.1.Dropout_dropout2</th>\n",
       "      <td>-</td>\n",
       "      <td>[20, 4, 300]</td>\n",
       "      <td>NaN</td>\n",
       "      <td>NaN</td>\n",
       "    </tr>\n",
       "    <tr>\n",
       "      <th>15_transformer_encoder.layers.1.LayerNorm_norm2</th>\n",
       "      <td>[300]</td>\n",
       "      <td>[20, 4, 300]</td>\n",
       "      <td>600.0</td>\n",
       "      <td>300.0</td>\n",
       "    </tr>\n",
       "    <tr>\n",
       "      <th>16_transformer_encoder.layers.2.Dropout_dropout1</th>\n",
       "      <td>-</td>\n",
       "      <td>[20, 4, 300]</td>\n",
       "      <td>NaN</td>\n",
       "      <td>NaN</td>\n",
       "    </tr>\n",
       "    <tr>\n",
       "      <th>17_transformer_encoder.layers.2.LayerNorm_norm1</th>\n",
       "      <td>[300]</td>\n",
       "      <td>[20, 4, 300]</td>\n",
       "      <td>600.0</td>\n",
       "      <td>300.0</td>\n",
       "    </tr>\n",
       "    <tr>\n",
       "      <th>18_transformer_encoder.layers.2.Linear_linear1</th>\n",
       "      <td>[300, 2048]</td>\n",
       "      <td>[20, 4, 2048]</td>\n",
       "      <td>616448.0</td>\n",
       "      <td>614400.0</td>\n",
       "    </tr>\n",
       "    <tr>\n",
       "      <th>19_transformer_encoder.layers.2.Dropout_dropout</th>\n",
       "      <td>-</td>\n",
       "      <td>[20, 4, 2048]</td>\n",
       "      <td>NaN</td>\n",
       "      <td>NaN</td>\n",
       "    </tr>\n",
       "    <tr>\n",
       "      <th>20_transformer_encoder.layers.2.Linear_linear2</th>\n",
       "      <td>[2048, 300]</td>\n",
       "      <td>[20, 4, 300]</td>\n",
       "      <td>614700.0</td>\n",
       "      <td>614400.0</td>\n",
       "    </tr>\n",
       "    <tr>\n",
       "      <th>21_transformer_encoder.layers.2.Dropout_dropout2</th>\n",
       "      <td>-</td>\n",
       "      <td>[20, 4, 300]</td>\n",
       "      <td>NaN</td>\n",
       "      <td>NaN</td>\n",
       "    </tr>\n",
       "    <tr>\n",
       "      <th>22_transformer_encoder.layers.2.LayerNorm_norm2</th>\n",
       "      <td>[300]</td>\n",
       "      <td>[20, 4, 300]</td>\n",
       "      <td>600.0</td>\n",
       "      <td>300.0</td>\n",
       "    </tr>\n",
       "    <tr>\n",
       "      <th>23_transformer_encoder.layers.3.Dropout_dropout1</th>\n",
       "      <td>-</td>\n",
       "      <td>[20, 4, 300]</td>\n",
       "      <td>NaN</td>\n",
       "      <td>NaN</td>\n",
       "    </tr>\n",
       "    <tr>\n",
       "      <th>24_transformer_encoder.layers.3.LayerNorm_norm1</th>\n",
       "      <td>[300]</td>\n",
       "      <td>[20, 4, 300]</td>\n",
       "      <td>600.0</td>\n",
       "      <td>300.0</td>\n",
       "    </tr>\n",
       "    <tr>\n",
       "      <th>25_transformer_encoder.layers.3.Linear_linear1</th>\n",
       "      <td>[300, 2048]</td>\n",
       "      <td>[20, 4, 2048]</td>\n",
       "      <td>616448.0</td>\n",
       "      <td>614400.0</td>\n",
       "    </tr>\n",
       "    <tr>\n",
       "      <th>26_transformer_encoder.layers.3.Dropout_dropout</th>\n",
       "      <td>-</td>\n",
       "      <td>[20, 4, 2048]</td>\n",
       "      <td>NaN</td>\n",
       "      <td>NaN</td>\n",
       "    </tr>\n",
       "    <tr>\n",
       "      <th>27_transformer_encoder.layers.3.Linear_linear2</th>\n",
       "      <td>[2048, 300]</td>\n",
       "      <td>[20, 4, 300]</td>\n",
       "      <td>614700.0</td>\n",
       "      <td>614400.0</td>\n",
       "    </tr>\n",
       "    <tr>\n",
       "      <th>28_transformer_encoder.layers.3.Dropout_dropout2</th>\n",
       "      <td>-</td>\n",
       "      <td>[20, 4, 300]</td>\n",
       "      <td>NaN</td>\n",
       "      <td>NaN</td>\n",
       "    </tr>\n",
       "    <tr>\n",
       "      <th>29_transformer_encoder.layers.3.LayerNorm_norm2</th>\n",
       "      <td>[300]</td>\n",
       "      <td>[20, 4, 300]</td>\n",
       "      <td>600.0</td>\n",
       "      <td>300.0</td>\n",
       "    </tr>\n",
       "    <tr>\n",
       "      <th>30_transformer_encoder.layers.4.Dropout_dropout1</th>\n",
       "      <td>-</td>\n",
       "      <td>[20, 4, 300]</td>\n",
       "      <td>NaN</td>\n",
       "      <td>NaN</td>\n",
       "    </tr>\n",
       "    <tr>\n",
       "      <th>31_transformer_encoder.layers.4.LayerNorm_norm1</th>\n",
       "      <td>[300]</td>\n",
       "      <td>[20, 4, 300]</td>\n",
       "      <td>600.0</td>\n",
       "      <td>300.0</td>\n",
       "    </tr>\n",
       "    <tr>\n",
       "      <th>32_transformer_encoder.layers.4.Linear_linear1</th>\n",
       "      <td>[300, 2048]</td>\n",
       "      <td>[20, 4, 2048]</td>\n",
       "      <td>616448.0</td>\n",
       "      <td>614400.0</td>\n",
       "    </tr>\n",
       "    <tr>\n",
       "      <th>33_transformer_encoder.layers.4.Dropout_dropout</th>\n",
       "      <td>-</td>\n",
       "      <td>[20, 4, 2048]</td>\n",
       "      <td>NaN</td>\n",
       "      <td>NaN</td>\n",
       "    </tr>\n",
       "    <tr>\n",
       "      <th>34_transformer_encoder.layers.4.Linear_linear2</th>\n",
       "      <td>[2048, 300]</td>\n",
       "      <td>[20, 4, 300]</td>\n",
       "      <td>614700.0</td>\n",
       "      <td>614400.0</td>\n",
       "    </tr>\n",
       "    <tr>\n",
       "      <th>35_transformer_encoder.layers.4.Dropout_dropout2</th>\n",
       "      <td>-</td>\n",
       "      <td>[20, 4, 300]</td>\n",
       "      <td>NaN</td>\n",
       "      <td>NaN</td>\n",
       "    </tr>\n",
       "    <tr>\n",
       "      <th>36_transformer_encoder.layers.4.LayerNorm_norm2</th>\n",
       "      <td>[300]</td>\n",
       "      <td>[20, 4, 300]</td>\n",
       "      <td>600.0</td>\n",
       "      <td>300.0</td>\n",
       "    </tr>\n",
       "    <tr>\n",
       "      <th>37_transformer_encoder.layers.5.Dropout_dropout1</th>\n",
       "      <td>-</td>\n",
       "      <td>[20, 4, 300]</td>\n",
       "      <td>NaN</td>\n",
       "      <td>NaN</td>\n",
       "    </tr>\n",
       "    <tr>\n",
       "      <th>38_transformer_encoder.layers.5.LayerNorm_norm1</th>\n",
       "      <td>[300]</td>\n",
       "      <td>[20, 4, 300]</td>\n",
       "      <td>600.0</td>\n",
       "      <td>300.0</td>\n",
       "    </tr>\n",
       "    <tr>\n",
       "      <th>39_transformer_encoder.layers.5.Linear_linear1</th>\n",
       "      <td>[300, 2048]</td>\n",
       "      <td>[20, 4, 2048]</td>\n",
       "      <td>616448.0</td>\n",
       "      <td>614400.0</td>\n",
       "    </tr>\n",
       "    <tr>\n",
       "      <th>40_transformer_encoder.layers.5.Dropout_dropout</th>\n",
       "      <td>-</td>\n",
       "      <td>[20, 4, 2048]</td>\n",
       "      <td>NaN</td>\n",
       "      <td>NaN</td>\n",
       "    </tr>\n",
       "    <tr>\n",
       "      <th>41_transformer_encoder.layers.5.Linear_linear2</th>\n",
       "      <td>[2048, 300]</td>\n",
       "      <td>[20, 4, 300]</td>\n",
       "      <td>614700.0</td>\n",
       "      <td>614400.0</td>\n",
       "    </tr>\n",
       "    <tr>\n",
       "      <th>42_transformer_encoder.layers.5.Dropout_dropout2</th>\n",
       "      <td>-</td>\n",
       "      <td>[20, 4, 300]</td>\n",
       "      <td>NaN</td>\n",
       "      <td>NaN</td>\n",
       "    </tr>\n",
       "    <tr>\n",
       "      <th>43_transformer_encoder.layers.5.LayerNorm_norm2</th>\n",
       "      <td>[300]</td>\n",
       "      <td>[20, 4, 300]</td>\n",
       "      <td>600.0</td>\n",
       "      <td>300.0</td>\n",
       "    </tr>\n",
       "    <tr>\n",
       "      <th>44_fc_out</th>\n",
       "      <td>[300, 3]</td>\n",
       "      <td>[20, 4, 3]</td>\n",
       "      <td>903.0</td>\n",
       "      <td>900.0</td>\n",
       "    </tr>\n",
       "  </tbody>\n",
       "</table>\n",
       "</div>"
      ],
      "text/plain": [
       "                                                   Kernel Shape  \\\n",
       "Layer                                                             \n",
       "0_encoder                                         [300, 400002]   \n",
       "1_pos_encoder.Dropout_dropout                                 -   \n",
       "2_transformer_encoder.layers.0.Dropout_dropout1               -   \n",
       "3_transformer_encoder.layers.0.LayerNorm_norm1            [300]   \n",
       "4_transformer_encoder.layers.0.Linear_linear1       [300, 2048]   \n",
       "5_transformer_encoder.layers.0.Dropout_dropout                -   \n",
       "6_transformer_encoder.layers.0.Linear_linear2       [2048, 300]   \n",
       "7_transformer_encoder.layers.0.Dropout_dropout2               -   \n",
       "8_transformer_encoder.layers.0.LayerNorm_norm2            [300]   \n",
       "9_transformer_encoder.layers.1.Dropout_dropout1               -   \n",
       "10_transformer_encoder.layers.1.LayerNorm_norm1           [300]   \n",
       "11_transformer_encoder.layers.1.Linear_linear1      [300, 2048]   \n",
       "12_transformer_encoder.layers.1.Dropout_dropout               -   \n",
       "13_transformer_encoder.layers.1.Linear_linear2      [2048, 300]   \n",
       "14_transformer_encoder.layers.1.Dropout_dropout2              -   \n",
       "15_transformer_encoder.layers.1.LayerNorm_norm2           [300]   \n",
       "16_transformer_encoder.layers.2.Dropout_dropout1              -   \n",
       "17_transformer_encoder.layers.2.LayerNorm_norm1           [300]   \n",
       "18_transformer_encoder.layers.2.Linear_linear1      [300, 2048]   \n",
       "19_transformer_encoder.layers.2.Dropout_dropout               -   \n",
       "20_transformer_encoder.layers.2.Linear_linear2      [2048, 300]   \n",
       "21_transformer_encoder.layers.2.Dropout_dropout2              -   \n",
       "22_transformer_encoder.layers.2.LayerNorm_norm2           [300]   \n",
       "23_transformer_encoder.layers.3.Dropout_dropout1              -   \n",
       "24_transformer_encoder.layers.3.LayerNorm_norm1           [300]   \n",
       "25_transformer_encoder.layers.3.Linear_linear1      [300, 2048]   \n",
       "26_transformer_encoder.layers.3.Dropout_dropout               -   \n",
       "27_transformer_encoder.layers.3.Linear_linear2      [2048, 300]   \n",
       "28_transformer_encoder.layers.3.Dropout_dropout2              -   \n",
       "29_transformer_encoder.layers.3.LayerNorm_norm2           [300]   \n",
       "30_transformer_encoder.layers.4.Dropout_dropout1              -   \n",
       "31_transformer_encoder.layers.4.LayerNorm_norm1           [300]   \n",
       "32_transformer_encoder.layers.4.Linear_linear1      [300, 2048]   \n",
       "33_transformer_encoder.layers.4.Dropout_dropout               -   \n",
       "34_transformer_encoder.layers.4.Linear_linear2      [2048, 300]   \n",
       "35_transformer_encoder.layers.4.Dropout_dropout2              -   \n",
       "36_transformer_encoder.layers.4.LayerNorm_norm2           [300]   \n",
       "37_transformer_encoder.layers.5.Dropout_dropout1              -   \n",
       "38_transformer_encoder.layers.5.LayerNorm_norm1           [300]   \n",
       "39_transformer_encoder.layers.5.Linear_linear1      [300, 2048]   \n",
       "40_transformer_encoder.layers.5.Dropout_dropout               -   \n",
       "41_transformer_encoder.layers.5.Linear_linear2      [2048, 300]   \n",
       "42_transformer_encoder.layers.5.Dropout_dropout2              -   \n",
       "43_transformer_encoder.layers.5.LayerNorm_norm2           [300]   \n",
       "44_fc_out                                              [300, 3]   \n",
       "\n",
       "                                                   Output Shape    Params  \\\n",
       "Layer                                                                       \n",
       "0_encoder                                          [20, 4, 300]       NaN   \n",
       "1_pos_encoder.Dropout_dropout                      [20, 4, 300]       NaN   \n",
       "2_transformer_encoder.layers.0.Dropout_dropout1    [20, 4, 300]       NaN   \n",
       "3_transformer_encoder.layers.0.LayerNorm_norm1     [20, 4, 300]     600.0   \n",
       "4_transformer_encoder.layers.0.Linear_linear1     [20, 4, 2048]  616448.0   \n",
       "5_transformer_encoder.layers.0.Dropout_dropout    [20, 4, 2048]       NaN   \n",
       "6_transformer_encoder.layers.0.Linear_linear2      [20, 4, 300]  614700.0   \n",
       "7_transformer_encoder.layers.0.Dropout_dropout2    [20, 4, 300]       NaN   \n",
       "8_transformer_encoder.layers.0.LayerNorm_norm2     [20, 4, 300]     600.0   \n",
       "9_transformer_encoder.layers.1.Dropout_dropout1    [20, 4, 300]       NaN   \n",
       "10_transformer_encoder.layers.1.LayerNorm_norm1    [20, 4, 300]     600.0   \n",
       "11_transformer_encoder.layers.1.Linear_linear1    [20, 4, 2048]  616448.0   \n",
       "12_transformer_encoder.layers.1.Dropout_dropout   [20, 4, 2048]       NaN   \n",
       "13_transformer_encoder.layers.1.Linear_linear2     [20, 4, 300]  614700.0   \n",
       "14_transformer_encoder.layers.1.Dropout_dropout2   [20, 4, 300]       NaN   \n",
       "15_transformer_encoder.layers.1.LayerNorm_norm2    [20, 4, 300]     600.0   \n",
       "16_transformer_encoder.layers.2.Dropout_dropout1   [20, 4, 300]       NaN   \n",
       "17_transformer_encoder.layers.2.LayerNorm_norm1    [20, 4, 300]     600.0   \n",
       "18_transformer_encoder.layers.2.Linear_linear1    [20, 4, 2048]  616448.0   \n",
       "19_transformer_encoder.layers.2.Dropout_dropout   [20, 4, 2048]       NaN   \n",
       "20_transformer_encoder.layers.2.Linear_linear2     [20, 4, 300]  614700.0   \n",
       "21_transformer_encoder.layers.2.Dropout_dropout2   [20, 4, 300]       NaN   \n",
       "22_transformer_encoder.layers.2.LayerNorm_norm2    [20, 4, 300]     600.0   \n",
       "23_transformer_encoder.layers.3.Dropout_dropout1   [20, 4, 300]       NaN   \n",
       "24_transformer_encoder.layers.3.LayerNorm_norm1    [20, 4, 300]     600.0   \n",
       "25_transformer_encoder.layers.3.Linear_linear1    [20, 4, 2048]  616448.0   \n",
       "26_transformer_encoder.layers.3.Dropout_dropout   [20, 4, 2048]       NaN   \n",
       "27_transformer_encoder.layers.3.Linear_linear2     [20, 4, 300]  614700.0   \n",
       "28_transformer_encoder.layers.3.Dropout_dropout2   [20, 4, 300]       NaN   \n",
       "29_transformer_encoder.layers.3.LayerNorm_norm2    [20, 4, 300]     600.0   \n",
       "30_transformer_encoder.layers.4.Dropout_dropout1   [20, 4, 300]       NaN   \n",
       "31_transformer_encoder.layers.4.LayerNorm_norm1    [20, 4, 300]     600.0   \n",
       "32_transformer_encoder.layers.4.Linear_linear1    [20, 4, 2048]  616448.0   \n",
       "33_transformer_encoder.layers.4.Dropout_dropout   [20, 4, 2048]       NaN   \n",
       "34_transformer_encoder.layers.4.Linear_linear2     [20, 4, 300]  614700.0   \n",
       "35_transformer_encoder.layers.4.Dropout_dropout2   [20, 4, 300]       NaN   \n",
       "36_transformer_encoder.layers.4.LayerNorm_norm2    [20, 4, 300]     600.0   \n",
       "37_transformer_encoder.layers.5.Dropout_dropout1   [20, 4, 300]       NaN   \n",
       "38_transformer_encoder.layers.5.LayerNorm_norm1    [20, 4, 300]     600.0   \n",
       "39_transformer_encoder.layers.5.Linear_linear1    [20, 4, 2048]  616448.0   \n",
       "40_transformer_encoder.layers.5.Dropout_dropout   [20, 4, 2048]       NaN   \n",
       "41_transformer_encoder.layers.5.Linear_linear2     [20, 4, 300]  614700.0   \n",
       "42_transformer_encoder.layers.5.Dropout_dropout2   [20, 4, 300]       NaN   \n",
       "43_transformer_encoder.layers.5.LayerNorm_norm2    [20, 4, 300]     600.0   \n",
       "44_fc_out                                            [20, 4, 3]     903.0   \n",
       "\n",
       "                                                  Mult-Adds  \n",
       "Layer                                                        \n",
       "0_encoder                                               NaN  \n",
       "1_pos_encoder.Dropout_dropout                           NaN  \n",
       "2_transformer_encoder.layers.0.Dropout_dropout1         NaN  \n",
       "3_transformer_encoder.layers.0.LayerNorm_norm1        300.0  \n",
       "4_transformer_encoder.layers.0.Linear_linear1      614400.0  \n",
       "5_transformer_encoder.layers.0.Dropout_dropout          NaN  \n",
       "6_transformer_encoder.layers.0.Linear_linear2      614400.0  \n",
       "7_transformer_encoder.layers.0.Dropout_dropout2         NaN  \n",
       "8_transformer_encoder.layers.0.LayerNorm_norm2        300.0  \n",
       "9_transformer_encoder.layers.1.Dropout_dropout1         NaN  \n",
       "10_transformer_encoder.layers.1.LayerNorm_norm1       300.0  \n",
       "11_transformer_encoder.layers.1.Linear_linear1     614400.0  \n",
       "12_transformer_encoder.layers.1.Dropout_dropout         NaN  \n",
       "13_transformer_encoder.layers.1.Linear_linear2     614400.0  \n",
       "14_transformer_encoder.layers.1.Dropout_dropout2        NaN  \n",
       "15_transformer_encoder.layers.1.LayerNorm_norm2       300.0  \n",
       "16_transformer_encoder.layers.2.Dropout_dropout1        NaN  \n",
       "17_transformer_encoder.layers.2.LayerNorm_norm1       300.0  \n",
       "18_transformer_encoder.layers.2.Linear_linear1     614400.0  \n",
       "19_transformer_encoder.layers.2.Dropout_dropout         NaN  \n",
       "20_transformer_encoder.layers.2.Linear_linear2     614400.0  \n",
       "21_transformer_encoder.layers.2.Dropout_dropout2        NaN  \n",
       "22_transformer_encoder.layers.2.LayerNorm_norm2       300.0  \n",
       "23_transformer_encoder.layers.3.Dropout_dropout1        NaN  \n",
       "24_transformer_encoder.layers.3.LayerNorm_norm1       300.0  \n",
       "25_transformer_encoder.layers.3.Linear_linear1     614400.0  \n",
       "26_transformer_encoder.layers.3.Dropout_dropout         NaN  \n",
       "27_transformer_encoder.layers.3.Linear_linear2     614400.0  \n",
       "28_transformer_encoder.layers.3.Dropout_dropout2        NaN  \n",
       "29_transformer_encoder.layers.3.LayerNorm_norm2       300.0  \n",
       "30_transformer_encoder.layers.4.Dropout_dropout1        NaN  \n",
       "31_transformer_encoder.layers.4.LayerNorm_norm1       300.0  \n",
       "32_transformer_encoder.layers.4.Linear_linear1     614400.0  \n",
       "33_transformer_encoder.layers.4.Dropout_dropout         NaN  \n",
       "34_transformer_encoder.layers.4.Linear_linear2     614400.0  \n",
       "35_transformer_encoder.layers.4.Dropout_dropout2        NaN  \n",
       "36_transformer_encoder.layers.4.LayerNorm_norm2       300.0  \n",
       "37_transformer_encoder.layers.5.Dropout_dropout1        NaN  \n",
       "38_transformer_encoder.layers.5.LayerNorm_norm1       300.0  \n",
       "39_transformer_encoder.layers.5.Linear_linear1     614400.0  \n",
       "40_transformer_encoder.layers.5.Dropout_dropout         NaN  \n",
       "41_transformer_encoder.layers.5.Linear_linear2     614400.0  \n",
       "42_transformer_encoder.layers.5.Dropout_dropout2        NaN  \n",
       "43_transformer_encoder.layers.5.LayerNorm_norm2       300.0  \n",
       "44_fc_out                                             900.0  "
      ]
     },
     "execution_count": 30,
     "metadata": {},
     "output_type": "execute_result"
    }
   ],
   "source": [
    "from torchsummaryX import summary\n",
    "summary(model, torch.zeros((20, 4)).long().cuda())"
   ]
  },
  {
   "cell_type": "markdown",
   "metadata": {},
   "source": [
    "# Training and Validation"
   ]
  },
  {
   "cell_type": "code",
   "execution_count": 31,
   "metadata": {},
   "outputs": [],
   "source": [
    "def accuracy(outputs, labels):\n",
    "    labels = labels.ravel()\n",
    "    mask = (labels >= 0)\n",
    "    outputs = np.argmax(outputs, axis=1)\n",
    "    return np.sum(outputs == labels)/float(np.sum(mask))\n",
    "metrics = {\n",
    "    'accuracy': accuracy,\n",
    "}"
   ]
  },
  {
   "cell_type": "code",
   "execution_count": 32,
   "metadata": {},
   "outputs": [],
   "source": [
    "from tqdm import trange\n",
    "def train(model, optimizer, loss_fn, data_iterator, metrics, num_steps):\n",
    "    model.train()\n",
    "    summ = []\n",
    "    t = trange(num_steps)\n",
    "    for i in t:\n",
    "        train_batch, labels_batch = next(data_iterator)\n",
    "        output_batch = model(train_batch)\n",
    "        output_batch = output_batch.view(output_batch.shape[0]*output_batch.shape[1], output_batch.shape[2])\n",
    "        labels_batch = labels_batch.view(labels_batch.shape[0]*labels_batch.shape[1],)\n",
    "        loss = loss_fn(output_batch, labels_batch)\n",
    "        optimizer.zero_grad()\n",
    "        loss.backward()\n",
    "        optimizer.step()\n",
    "        if i % 20 == 0:\n",
    "            output_batch = output_batch.data.cpu().numpy()\n",
    "            labels_batch = labels_batch.data.cpu().numpy()\n",
    "            summary_batch = {metric: metrics[metric](output_batch, labels_batch)\n",
    "                             for metric in metrics}\n",
    "            summary_batch['loss'] = loss.item()\n",
    "            summ.append(summary_batch)\n",
    "\n",
    "    metrics_mean = {metric: np.mean([x[metric]\n",
    "                                     for x in summ]) for metric in summ[0]}\n",
    "    metrics_string = \" ; \".join(\"{}: {:05.3f}\".format(k, v)\n",
    "                                for k, v in metrics_mean.items())\n",
    "    print(\"- Train metrics: \" + metrics_string)"
   ]
  },
  {
   "cell_type": "code",
   "execution_count": 33,
   "metadata": {},
   "outputs": [],
   "source": [
    "def evaluate(model, loss_fn, data_iterator, metrics, num_steps):\n",
    "    model.eval()\n",
    "    summ = []\n",
    "    for _ in range(num_steps):\n",
    "        data_batch, labels_batch = next(data_iterator)\n",
    "        output_batch = model(data_batch)\n",
    "        output_batch = output_batch.view(output_batch.shape[0]*output_batch.shape[1], output_batch.shape[2])\n",
    "        labels_batch = labels_batch.view(labels_batch.shape[0]*labels_batch.shape[1],)\n",
    "        loss = loss_fn(output_batch, labels_batch)\n",
    "        output_batch = output_batch.data.cpu().numpy()\n",
    "        labels_batch = labels_batch.data.cpu().numpy()\n",
    "        summary_batch = {metric: metrics[metric](output_batch, labels_batch)\n",
    "                         for metric in metrics}\n",
    "        summary_batch['loss'] = loss.item()\n",
    "        summ.append(summary_batch)\n",
    "    metrics_mean = {metric:np.mean([x[metric] for x in summ]) for metric in summ[0]} \n",
    "    metrics_string = \" ; \".join(\"{}: {:05.3f}\".format(k, v) for k, v in metrics_mean.items())\n",
    "    print(\"- Eval metrics : \" + metrics_string)\n",
    "    return metrics_mean"
   ]
  },
  {
   "cell_type": "markdown",
   "metadata": {},
   "source": [
    "Data is skewed. Compute class weights and pass it to cross entropy loss"
   ]
  },
  {
   "cell_type": "code",
   "execution_count": 34,
   "metadata": {},
   "outputs": [
    {
     "name": "stdout",
     "output_type": "stream",
     "text": [
      "tensor([1.6360e-05, 2.9205e-05, 1.0491e-06], device='cuda:0')\n"
     ]
    }
   ],
   "source": [
    "total_tags = 0\n",
    "for tag in count_tags:\n",
    "    total_tags += count_tags[tag]\n",
    "class_weights = [0 for _ in range(unique_tags)]\n",
    "for tag, idx in tag2idx.items():\n",
    "    class_weights[idx] = 1/count_tags[tag]\n",
    "class_weights = torch.FloatTensor(class_weights).cuda()\n",
    "print(class_weights)"
   ]
  },
  {
   "cell_type": "code",
   "execution_count": 43,
   "metadata": {},
   "outputs": [],
   "source": [
    "batch_size = 64\n",
    "num_epochs = 20"
   ]
  },
  {
   "cell_type": "code",
   "execution_count": 36,
   "metadata": {},
   "outputs": [],
   "source": [
    "def train_and_evaluate(model, train_tokens, train_tags, val_tokens, val_tags, optimizer, metrics):\n",
    "    loss_fn = nn.CrossEntropyLoss(class_weights, ignore_index=-1, reduction='mean')\n",
    "    for epoch in range(num_epochs):\n",
    "        print(\"Epoch {}/{}\".format(epoch + 1, num_epochs))\n",
    "        num_steps = (len(train_tokens) + 1) // batch_size\n",
    "        train_data_iterator = data_iterator(train_tokens, train_tags, batch_size, shuffle=True)\n",
    "        train(model, optimizer, loss_fn, train_data_iterator, metrics, num_steps)\n",
    "        num_steps = (len(val_tokens) + 1) // batch_size\n",
    "        val_data_iterator = data_iterator(val_tokens, val_tags, batch_size, shuffle=False)\n",
    "        val_metrics = evaluate(model, loss_fn, val_data_iterator, metrics, num_steps)"
   ]
  },
  {
   "cell_type": "code",
   "execution_count": 37,
   "metadata": {},
   "outputs": [],
   "source": [
    "# optimizer = optim.Adam(model.parameters(), lr=1e-3)\n",
    "optimizer = optim.SGD(model.parameters(), lr=0.001, momentum=0.9)"
   ]
  },
  {
   "cell_type": "code",
   "execution_count": 44,
   "metadata": {},
   "outputs": [
    {
     "name": "stderr",
     "output_type": "stream",
     "text": [
      "  0%|          | 3/711 [00:00<00:27, 25.65it/s]"
     ]
    },
    {
     "name": "stdout",
     "output_type": "stream",
     "text": [
      "Epoch 1/20\n"
     ]
    },
    {
     "name": "stderr",
     "output_type": "stream",
     "text": [
      "100%|██████████| 711/711 [00:29<00:00, 23.84it/s]\n"
     ]
    },
    {
     "name": "stdout",
     "output_type": "stream",
     "text": [
      "- Train metrics: accuracy: 0.977 ; loss: 0.038\n"
     ]
    },
    {
     "name": "stderr",
     "output_type": "stream",
     "text": [
      "  0%|          | 3/711 [00:00<00:25, 27.73it/s]"
     ]
    },
    {
     "name": "stdout",
     "output_type": "stream",
     "text": [
      "- Eval metrics : accuracy: 0.960 ; loss: 0.651\n",
      "Epoch 2/20\n"
     ]
    },
    {
     "name": "stderr",
     "output_type": "stream",
     "text": [
      "100%|██████████| 711/711 [00:29<00:00, 23.87it/s]\n"
     ]
    },
    {
     "name": "stdout",
     "output_type": "stream",
     "text": [
      "- Train metrics: accuracy: 0.977 ; loss: 0.038\n"
     ]
    },
    {
     "name": "stderr",
     "output_type": "stream",
     "text": [
      "  0%|          | 3/711 [00:00<00:25, 27.62it/s]"
     ]
    },
    {
     "name": "stdout",
     "output_type": "stream",
     "text": [
      "- Eval metrics : accuracy: 0.960 ; loss: 0.670\n",
      "Epoch 3/20\n"
     ]
    },
    {
     "name": "stderr",
     "output_type": "stream",
     "text": [
      "100%|██████████| 711/711 [00:29<00:00, 23.83it/s]\n"
     ]
    },
    {
     "name": "stdout",
     "output_type": "stream",
     "text": [
      "- Train metrics: accuracy: 0.978 ; loss: 0.036\n"
     ]
    },
    {
     "name": "stderr",
     "output_type": "stream",
     "text": [
      "  0%|          | 3/711 [00:00<00:25, 27.70it/s]"
     ]
    },
    {
     "name": "stdout",
     "output_type": "stream",
     "text": [
      "- Eval metrics : accuracy: 0.961 ; loss: 0.698\n",
      "Epoch 4/20\n"
     ]
    },
    {
     "name": "stderr",
     "output_type": "stream",
     "text": [
      "100%|██████████| 711/711 [00:29<00:00, 23.88it/s]\n"
     ]
    },
    {
     "name": "stdout",
     "output_type": "stream",
     "text": [
      "- Train metrics: accuracy: 0.978 ; loss: 0.036\n"
     ]
    },
    {
     "name": "stderr",
     "output_type": "stream",
     "text": [
      "  0%|          | 3/711 [00:00<00:25, 27.88it/s]"
     ]
    },
    {
     "name": "stdout",
     "output_type": "stream",
     "text": [
      "- Eval metrics : accuracy: 0.960 ; loss: 0.716\n",
      "Epoch 5/20\n"
     ]
    },
    {
     "name": "stderr",
     "output_type": "stream",
     "text": [
      "100%|██████████| 711/711 [00:29<00:00, 23.87it/s]\n"
     ]
    },
    {
     "name": "stdout",
     "output_type": "stream",
     "text": [
      "- Train metrics: accuracy: 0.978 ; loss: 0.036\n"
     ]
    },
    {
     "name": "stderr",
     "output_type": "stream",
     "text": [
      "  0%|          | 3/711 [00:00<00:25, 27.88it/s]"
     ]
    },
    {
     "name": "stdout",
     "output_type": "stream",
     "text": [
      "- Eval metrics : accuracy: 0.960 ; loss: 0.713\n",
      "Epoch 6/20\n"
     ]
    },
    {
     "name": "stderr",
     "output_type": "stream",
     "text": [
      "100%|██████████| 711/711 [00:29<00:00, 23.85it/s]\n"
     ]
    },
    {
     "name": "stdout",
     "output_type": "stream",
     "text": [
      "- Train metrics: accuracy: 0.978 ; loss: 0.036\n"
     ]
    },
    {
     "name": "stderr",
     "output_type": "stream",
     "text": [
      "  0%|          | 3/711 [00:00<00:25, 27.98it/s]"
     ]
    },
    {
     "name": "stdout",
     "output_type": "stream",
     "text": [
      "- Eval metrics : accuracy: 0.960 ; loss: 0.734\n",
      "Epoch 7/20\n"
     ]
    },
    {
     "name": "stderr",
     "output_type": "stream",
     "text": [
      "100%|██████████| 711/711 [00:29<00:00, 23.87it/s]\n"
     ]
    },
    {
     "name": "stdout",
     "output_type": "stream",
     "text": [
      "- Train metrics: accuracy: 0.978 ; loss: 0.036\n"
     ]
    },
    {
     "name": "stderr",
     "output_type": "stream",
     "text": [
      "  0%|          | 3/711 [00:00<00:25, 27.93it/s]"
     ]
    },
    {
     "name": "stdout",
     "output_type": "stream",
     "text": [
      "- Eval metrics : accuracy: 0.960 ; loss: 0.738\n",
      "Epoch 8/20\n"
     ]
    },
    {
     "name": "stderr",
     "output_type": "stream",
     "text": [
      "100%|██████████| 711/711 [00:29<00:00, 23.72it/s]\n"
     ]
    },
    {
     "name": "stdout",
     "output_type": "stream",
     "text": [
      "- Train metrics: accuracy: 0.978 ; loss: 0.035\n"
     ]
    },
    {
     "name": "stderr",
     "output_type": "stream",
     "text": [
      "  0%|          | 3/711 [00:00<00:25, 27.43it/s]"
     ]
    },
    {
     "name": "stdout",
     "output_type": "stream",
     "text": [
      "- Eval metrics : accuracy: 0.960 ; loss: 0.758\n",
      "Epoch 9/20\n"
     ]
    },
    {
     "name": "stderr",
     "output_type": "stream",
     "text": [
      "100%|██████████| 711/711 [00:29<00:00, 23.88it/s]\n"
     ]
    },
    {
     "name": "stdout",
     "output_type": "stream",
     "text": [
      "- Train metrics: accuracy: 0.978 ; loss: 0.035\n"
     ]
    },
    {
     "name": "stderr",
     "output_type": "stream",
     "text": [
      "  0%|          | 3/711 [00:00<00:25, 27.95it/s]"
     ]
    },
    {
     "name": "stdout",
     "output_type": "stream",
     "text": [
      "- Eval metrics : accuracy: 0.960 ; loss: 0.757\n",
      "Epoch 10/20\n"
     ]
    },
    {
     "name": "stderr",
     "output_type": "stream",
     "text": [
      "100%|██████████| 711/711 [00:29<00:00, 23.97it/s]\n"
     ]
    },
    {
     "name": "stdout",
     "output_type": "stream",
     "text": [
      "- Train metrics: accuracy: 0.977 ; loss: 0.036\n"
     ]
    },
    {
     "name": "stderr",
     "output_type": "stream",
     "text": [
      "  0%|          | 3/711 [00:00<00:27, 25.66it/s]"
     ]
    },
    {
     "name": "stdout",
     "output_type": "stream",
     "text": [
      "- Eval metrics : accuracy: 0.961 ; loss: 0.737\n",
      "Epoch 11/20\n"
     ]
    },
    {
     "name": "stderr",
     "output_type": "stream",
     "text": [
      "100%|██████████| 711/711 [00:29<00:00, 23.92it/s]\n"
     ]
    },
    {
     "name": "stdout",
     "output_type": "stream",
     "text": [
      "- Train metrics: accuracy: 0.977 ; loss: 0.036\n"
     ]
    },
    {
     "name": "stderr",
     "output_type": "stream",
     "text": [
      "  0%|          | 3/711 [00:00<00:25, 27.89it/s]"
     ]
    },
    {
     "name": "stdout",
     "output_type": "stream",
     "text": [
      "- Eval metrics : accuracy: 0.960 ; loss: 0.723\n",
      "Epoch 12/20\n"
     ]
    },
    {
     "name": "stderr",
     "output_type": "stream",
     "text": [
      "100%|██████████| 711/711 [00:29<00:00, 23.88it/s]\n"
     ]
    },
    {
     "name": "stdout",
     "output_type": "stream",
     "text": [
      "- Train metrics: accuracy: 0.976 ; loss: 0.043\n"
     ]
    },
    {
     "name": "stderr",
     "output_type": "stream",
     "text": [
      "  0%|          | 3/711 [00:00<00:25, 27.88it/s]"
     ]
    },
    {
     "name": "stdout",
     "output_type": "stream",
     "text": [
      "- Eval metrics : accuracy: 0.959 ; loss: 0.644\n",
      "Epoch 13/20\n"
     ]
    },
    {
     "name": "stderr",
     "output_type": "stream",
     "text": [
      "100%|██████████| 711/711 [00:29<00:00, 23.86it/s]\n"
     ]
    },
    {
     "name": "stdout",
     "output_type": "stream",
     "text": [
      "- Train metrics: accuracy: 0.972 ; loss: 0.053\n"
     ]
    },
    {
     "name": "stderr",
     "output_type": "stream",
     "text": [
      "  0%|          | 3/711 [00:00<00:25, 28.04it/s]"
     ]
    },
    {
     "name": "stdout",
     "output_type": "stream",
     "text": [
      "- Eval metrics : accuracy: 0.958 ; loss: 0.557\n",
      "Epoch 14/20\n"
     ]
    },
    {
     "name": "stderr",
     "output_type": "stream",
     "text": [
      "100%|██████████| 711/711 [00:29<00:00, 23.91it/s]\n"
     ]
    },
    {
     "name": "stdout",
     "output_type": "stream",
     "text": [
      "- Train metrics: accuracy: 0.971 ; loss: 0.053\n"
     ]
    },
    {
     "name": "stderr",
     "output_type": "stream",
     "text": [
      "  0%|          | 3/711 [00:00<00:25, 27.72it/s]"
     ]
    },
    {
     "name": "stdout",
     "output_type": "stream",
     "text": [
      "- Eval metrics : accuracy: 0.958 ; loss: 0.544\n",
      "Epoch 15/20\n"
     ]
    },
    {
     "name": "stderr",
     "output_type": "stream",
     "text": [
      "100%|██████████| 711/711 [00:29<00:00, 23.73it/s]\n"
     ]
    },
    {
     "name": "stdout",
     "output_type": "stream",
     "text": [
      "- Train metrics: accuracy: 0.973 ; loss: 0.048\n"
     ]
    },
    {
     "name": "stderr",
     "output_type": "stream",
     "text": [
      "  0%|          | 3/711 [00:00<00:25, 27.99it/s]"
     ]
    },
    {
     "name": "stdout",
     "output_type": "stream",
     "text": [
      "- Eval metrics : accuracy: 0.959 ; loss: 0.555\n",
      "Epoch 16/20\n"
     ]
    },
    {
     "name": "stderr",
     "output_type": "stream",
     "text": [
      "100%|██████████| 711/711 [00:29<00:00, 23.81it/s]\n"
     ]
    },
    {
     "name": "stdout",
     "output_type": "stream",
     "text": [
      "- Train metrics: accuracy: 0.975 ; loss: 0.043\n"
     ]
    },
    {
     "name": "stderr",
     "output_type": "stream",
     "text": [
      "  0%|          | 3/711 [00:00<00:25, 27.48it/s]"
     ]
    },
    {
     "name": "stdout",
     "output_type": "stream",
     "text": [
      "- Eval metrics : accuracy: 0.959 ; loss: 0.613\n",
      "Epoch 17/20\n"
     ]
    },
    {
     "name": "stderr",
     "output_type": "stream",
     "text": [
      "100%|██████████| 711/711 [00:29<00:00, 23.74it/s]\n"
     ]
    },
    {
     "name": "stdout",
     "output_type": "stream",
     "text": [
      "- Train metrics: accuracy: 0.977 ; loss: 0.038\n"
     ]
    },
    {
     "name": "stderr",
     "output_type": "stream",
     "text": [
      "  0%|          | 3/711 [00:00<00:25, 27.51it/s]"
     ]
    },
    {
     "name": "stdout",
     "output_type": "stream",
     "text": [
      "- Eval metrics : accuracy: 0.960 ; loss: 0.645\n",
      "Epoch 18/20\n"
     ]
    },
    {
     "name": "stderr",
     "output_type": "stream",
     "text": [
      "100%|██████████| 711/711 [00:29<00:00, 23.88it/s]\n"
     ]
    },
    {
     "name": "stdout",
     "output_type": "stream",
     "text": [
      "- Train metrics: accuracy: 0.977 ; loss: 0.035\n"
     ]
    },
    {
     "name": "stderr",
     "output_type": "stream",
     "text": [
      "  0%|          | 3/711 [00:00<00:25, 27.87it/s]"
     ]
    },
    {
     "name": "stdout",
     "output_type": "stream",
     "text": [
      "- Eval metrics : accuracy: 0.961 ; loss: 0.700\n",
      "Epoch 19/20\n"
     ]
    },
    {
     "name": "stderr",
     "output_type": "stream",
     "text": [
      "100%|██████████| 711/711 [00:29<00:00, 23.85it/s]\n"
     ]
    },
    {
     "name": "stdout",
     "output_type": "stream",
     "text": [
      "- Train metrics: accuracy: 0.978 ; loss: 0.034\n"
     ]
    },
    {
     "name": "stderr",
     "output_type": "stream",
     "text": [
      "  0%|          | 3/711 [00:00<00:25, 27.93it/s]"
     ]
    },
    {
     "name": "stdout",
     "output_type": "stream",
     "text": [
      "- Eval metrics : accuracy: 0.962 ; loss: 0.711\n",
      "Epoch 20/20\n"
     ]
    },
    {
     "name": "stderr",
     "output_type": "stream",
     "text": [
      "100%|██████████| 711/711 [00:29<00:00, 23.86it/s]\n"
     ]
    },
    {
     "name": "stdout",
     "output_type": "stream",
     "text": [
      "- Train metrics: accuracy: 0.979 ; loss: 0.034\n",
      "- Eval metrics : accuracy: 0.961 ; loss: 0.717\n"
     ]
    }
   ],
   "source": [
    "train_and_evaluate(model, train_tokens, train_tags, val_tokens, val_tags, optimizer, metrics)"
   ]
  },
  {
   "cell_type": "code",
   "execution_count": 45,
   "metadata": {},
   "outputs": [
    {
     "data": {
      "text/html": [
       "<a href=./model_100.pth>Download model file</a>"
      ],
      "text/plain": [
       "<IPython.core.display.HTML object>"
      ]
     },
     "execution_count": 45,
     "metadata": {},
     "output_type": "execute_result"
    }
   ],
   "source": [
    "from IPython.display import HTML\n",
    "def create_download_link(title = \"Download model file\", filename = \"./images.zip\"):  \n",
    "    html = '<a href={filename}>{title}</a>'\n",
    "    html = html.format(title=title,filename=filename)\n",
    "    return HTML(html)\n",
    "\n",
    "\n",
    "torch.save(model.state_dict(), \"model_100.pth\")\n",
    "create_download_link(filename='./model_100.pth')"
   ]
  },
  {
   "cell_type": "markdown",
   "metadata": {},
   "source": [
    "# Plot Confidence Matrix"
   ]
  },
  {
   "cell_type": "code",
   "execution_count": 46,
   "metadata": {},
   "outputs": [],
   "source": [
    "import seaborn as sn\n",
    "import matplotlib.pyplot as plt\n",
    "\n",
    "def plot_conf_mat(model, tokens, tags):\n",
    "    model.eval()\n",
    "    summ = []\n",
    "    conf_mat = np.zeros((unique_tags, unique_tags))\n",
    "    print(\"unique_tags\",unique_tags, conf_mat.shape)\n",
    "    for idx in trange(len(tokens)):\n",
    "        data = [tokens[idx]]\n",
    "        labels = tags[idx]\n",
    "        data = torch.LongTensor(data)\n",
    "        data = data.transpose(0, 1).contiguous().cuda()\n",
    "        outputs = model(data)\n",
    "        outputs = outputs.view(outputs.shape[0]*outputs.shape[1], outputs.shape[2])\n",
    "        outputs = outputs.data.cpu().numpy()\n",
    "        outputs = np.argmax(outputs, axis=1)\n",
    "        for i, j in  zip(labels, outputs):\n",
    "            conf_mat[i][j]+=1\n",
    "            \n",
    "    df_cm = pd.DataFrame(conf_mat, index = list(tag2idx.keys()), columns = list(tag2idx.keys()))\n",
    "    plt.figure(figsize = (10,7))\n",
    "    sn.heatmap(df_cm, annot=True)\n",
    "    \n",
    "    for i in range(unique_tags):\n",
    "        print()\n",
    "        print(idx2tag[i].upper())\n",
    "        print(\"precision\", conf_mat[i][i]/np.sum(conf_mat.T[i]))\n",
    "        print(\"recall\", conf_mat[i][i]/np.sum(conf_mat[i]))"
   ]
  },
  {
   "cell_type": "code",
   "execution_count": 49,
   "metadata": {},
   "outputs": [
    {
     "name": "stderr",
     "output_type": "stream",
     "text": [
      "  1%|          | 16/2398 [00:00<00:14, 158.88it/s]"
     ]
    },
    {
     "name": "stdout",
     "output_type": "stream",
     "text": [
      "unique_tags 3 (3, 3)\n"
     ]
    },
    {
     "name": "stderr",
     "output_type": "stream",
     "text": [
      "100%|██████████| 2398/2398 [00:15<00:00, 155.07it/s]\n"
     ]
    },
    {
     "name": "stdout",
     "output_type": "stream",
     "text": [
      "\n",
      "GPE\n",
      "precision 0.71836398572605\n",
      "recall 0.8677055702917772\n",
      "\n",
      "PER\n",
      "precision 0.7497267759562841\n",
      "recall 0.8270042194092827\n",
      "\n",
      "O\n",
      "precision 0.9879965219604266\n",
      "recall 0.9715542950094889\n"
     ]
    },
    {
     "data": {
      "image/png": "[encoded data removed]",
      "text/plain": [
       "<Figure size 720x504 with 2 Axes>"
      ]
     },
     "metadata": {
      "needs_background": "light"
     },
     "output_type": "display_data"
    }
   ],
   "source": [
    "plot_conf_mat(model, val_tokens,val_tags)"
   ]
  },
  {
   "cell_type": "markdown",
   "metadata": {},
   "source": [
    "# Prediction"
   ]
  },
  {
   "cell_type": "code",
   "execution_count": 48,
   "metadata": {},
   "outputs": [
    {
     "data": {
      "text/plain": [
       "TransformerModel(\n",
       "  (encoder): Embedding(400002, 300)\n",
       "  (pos_encoder): PositionalEncoding(\n",
       "    (dropout): Dropout(p=0.0, inplace=False)\n",
       "  )\n",
       "  (transformer_encoder): TransformerEncoder(\n",
       "    (layers): ModuleList(\n",
       "      (0): TransformerEncoderLayer(\n",
       "        (self_attn): MultiheadAttention(\n",
       "          (out_proj): _LinearWithBias(in_features=300, out_features=300, bias=True)\n",
       "        )\n",
       "        (linear1): Linear(in_features=300, out_features=2048, bias=True)\n",
       "        (dropout): Dropout(p=0.0, inplace=False)\n",
       "        (linear2): Linear(in_features=2048, out_features=300, bias=True)\n",
       "        (norm1): LayerNorm((300,), eps=1e-05, elementwise_affine=True)\n",
       "        (norm2): LayerNorm((300,), eps=1e-05, elementwise_affine=True)\n",
       "        (dropout1): Dropout(p=0.0, inplace=False)\n",
       "        (dropout2): Dropout(p=0.0, inplace=False)\n",
       "      )\n",
       "      (1): TransformerEncoderLayer(\n",
       "        (self_attn): MultiheadAttention(\n",
       "          (out_proj): _LinearWithBias(in_features=300, out_features=300, bias=True)\n",
       "        )\n",
       "        (linear1): Linear(in_features=300, out_features=2048, bias=True)\n",
       "        (dropout): Dropout(p=0.0, inplace=False)\n",
       "        (linear2): Linear(in_features=2048, out_features=300, bias=True)\n",
       "        (norm1): LayerNorm((300,), eps=1e-05, elementwise_affine=True)\n",
       "        (norm2): LayerNorm((300,), eps=1e-05, elementwise_affine=True)\n",
       "        (dropout1): Dropout(p=0.0, inplace=False)\n",
       "        (dropout2): Dropout(p=0.0, inplace=False)\n",
       "      )\n",
       "      (2): TransformerEncoderLayer(\n",
       "        (self_attn): MultiheadAttention(\n",
       "          (out_proj): _LinearWithBias(in_features=300, out_features=300, bias=True)\n",
       "        )\n",
       "        (linear1): Linear(in_features=300, out_features=2048, bias=True)\n",
       "        (dropout): Dropout(p=0.0, inplace=False)\n",
       "        (linear2): Linear(in_features=2048, out_features=300, bias=True)\n",
       "        (norm1): LayerNorm((300,), eps=1e-05, elementwise_affine=True)\n",
       "        (norm2): LayerNorm((300,), eps=1e-05, elementwise_affine=True)\n",
       "        (dropout1): Dropout(p=0.0, inplace=False)\n",
       "        (dropout2): Dropout(p=0.0, inplace=False)\n",
       "      )\n",
       "      (3): TransformerEncoderLayer(\n",
       "        (self_attn): MultiheadAttention(\n",
       "          (out_proj): _LinearWithBias(in_features=300, out_features=300, bias=True)\n",
       "        )\n",
       "        (linear1): Linear(in_features=300, out_features=2048, bias=True)\n",
       "        (dropout): Dropout(p=0.0, inplace=False)\n",
       "        (linear2): Linear(in_features=2048, out_features=300, bias=True)\n",
       "        (norm1): LayerNorm((300,), eps=1e-05, elementwise_affine=True)\n",
       "        (norm2): LayerNorm((300,), eps=1e-05, elementwise_affine=True)\n",
       "        (dropout1): Dropout(p=0.0, inplace=False)\n",
       "        (dropout2): Dropout(p=0.0, inplace=False)\n",
       "      )\n",
       "      (4): TransformerEncoderLayer(\n",
       "        (self_attn): MultiheadAttention(\n",
       "          (out_proj): _LinearWithBias(in_features=300, out_features=300, bias=True)\n",
       "        )\n",
       "        (linear1): Linear(in_features=300, out_features=2048, bias=True)\n",
       "        (dropout): Dropout(p=0.0, inplace=False)\n",
       "        (linear2): Linear(in_features=2048, out_features=300, bias=True)\n",
       "        (norm1): LayerNorm((300,), eps=1e-05, elementwise_affine=True)\n",
       "        (norm2): LayerNorm((300,), eps=1e-05, elementwise_affine=True)\n",
       "        (dropout1): Dropout(p=0.0, inplace=False)\n",
       "        (dropout2): Dropout(p=0.0, inplace=False)\n",
       "      )\n",
       "      (5): TransformerEncoderLayer(\n",
       "        (self_attn): MultiheadAttention(\n",
       "          (out_proj): _LinearWithBias(in_features=300, out_features=300, bias=True)\n",
       "        )\n",
       "        (linear1): Linear(in_features=300, out_features=2048, bias=True)\n",
       "        (dropout): Dropout(p=0.0, inplace=False)\n",
       "        (linear2): Linear(in_features=2048, out_features=300, bias=True)\n",
       "        (norm1): LayerNorm((300,), eps=1e-05, elementwise_affine=True)\n",
       "        (norm2): LayerNorm((300,), eps=1e-05, elementwise_affine=True)\n",
       "        (dropout1): Dropout(p=0.0, inplace=False)\n",
       "        (dropout2): Dropout(p=0.0, inplace=False)\n",
       "      )\n",
       "    )\n",
       "  )\n",
       "  (fc_out): Linear(in_features=300, out_features=3, bias=True)\n",
       "  (dropout): Dropout(p=0.0, inplace=False)\n",
       ")"
      ]
     },
     "execution_count": 48,
     "metadata": {},
     "output_type": "execute_result"
    }
   ],
   "source": [
    "model.load_state_dict(torch.load(\"./model_100.pth\"))\n",
    "model.eval()"
   ]
  },
  {
   "cell_type": "code",
   "execution_count": 50,
   "metadata": {},
   "outputs": [],
   "source": [
    "def predict(model, sentence):\n",
    "    model.eval()\n",
    "    words = sentence.translate(str.maketrans('','',string.punctuation)).split()\n",
    "    data = [[word_to_index[word.lower()] for word in words]]\n",
    "    data = torch.LongTensor(data)\n",
    "    data = data.transpose(0, 1).contiguous().cuda()\n",
    "    outputs = model(data)\n",
    "    outputs = outputs.view(outputs.shape[0]*outputs.shape[1], outputs.shape[2])\n",
    "    outputs = outputs.data.cpu().numpy()\n",
    "    outputs = np.argmax(outputs, axis=1)\n",
    "    ner = \"\"\n",
    "    for i, j in enumerate(outputs):\n",
    "        ner =  ner + \" \" + words[i]+\"(\"+idx2tag[j].upper()+\")\"\n",
    "    print(ner.strip())"
   ]
  },
  {
   "cell_type": "code",
   "execution_count": 51,
   "metadata": {},
   "outputs": [
    {
     "name": "stdout",
     "output_type": "stream",
     "text": [
      "Carrie(PER) Mathison(O) a(O) CIA(O) operations(O) officer(O) conducts(O) an(O) unauthorized(O) operation(O) in(O) Iraq(GPE) and(O) is(O) reassigned(O) to(O) the(O) CIAs(O) Counterterrorism(O) Center(O) in(O) Langley(O) Virginia(GPE) Nicholas(O) Brody(PER) a(O) US(GPE) Marine(O) Sergeant(O) who(O) had(O) been(O) reported(O) as(O) missing(O) in(O) action(O) since(O) 2003(O) is(O) rescued(O) from(O) a(O) compound(O) belonging(O) to(O) terrorist(O) Abu(O) Nazir(O) Brody(PER) is(O) heralded(O) as(O) a(O) war(O) hero(O) but(O) Carrie(PER) comes(O) to(O) suspect(O) that(O) he(O) is(O) planning(O) a(O) terrorist(O) attack(O) against(O) the(O) United(GPE) States(GPE)\n"
     ]
    }
   ],
   "source": [
    "input_sentence = \"Carrie Mathison, a CIA operations officer, conducts an unauthorized operation in Iraq and is reassigned to the CIA's Counterterrorism Center in Langley, Virginia. Nicholas Brody, a U.S. Marine Sergeant who had been reported as missing in action since 2003, is rescued from a compound belonging to terrorist Abu Nazir. Brody is heralded as a war hero, but Carrie comes to suspect that he is planning a terrorist attack against the United States.\"\n",
    "predict(model, input_sentence)"
   ]
  }
 ],
 "metadata": {
  "kernelspec": {
   "display_name": "Python 3",
   "language": "python",
   "name": "python3"
  },
  "language_info": {
   "codemirror_mode": {
    "name": "ipython",
    "version": 3
   },
   "file_extension": ".py",
   "mimetype": "text/x-python",
   "name": "python",
   "nbconvert_exporter": "python",
   "pygments_lexer": "ipython3",
   "version": "3.6.7"
  }
 },
 "nbformat": 4,
 "nbformat_minor": 4
}
