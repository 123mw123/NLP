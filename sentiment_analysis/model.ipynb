{
  "nbformat": 4,
  "nbformat_minor": 0,
  "metadata": {
    "colab": {
      "name": "niki.ipynb",
      "version": "0.3.2",
      "provenance": []
    },
    "kernelspec": {
      "name": "python3",
      "display_name": "Python 3"
    }
  },
  "cells": [
    {
      "cell_type": "code",
      "metadata": {
        "id": "jn8fvqZx33se",
        "colab_type": "code",
        "outputId": "cc3d7977-4f28-4055-9825-76f59b1a9cd4",
        "colab": {
          "base_uri": "https://localhost:8080/",
          "height": 34
        }
      },
      "source": [
        "from google.colab import drive\n",
        "drive.mount('/content/drive')"
      ],
      "execution_count": 1,
      "outputs": [
        {
          "output_type": "stream",
          "text": [
            "Drive already mounted at /content/drive; to attempt to forcibly remount, call drive.mount(\"/content/drive\", force_remount=True).\n"
          ],
          "name": "stdout"
        }
      ]
    },
    {
      "cell_type": "code",
      "metadata": {
        "id": "1eZF7Cmx7FAe",
        "colab_type": "code",
        "colab": {
          "base_uri": "https://localhost:8080/",
          "height": 34
        },
        "outputId": "2ca5e01e-150a-4690-d541-dfb07e45f7cd"
      },
      "source": [
        "import pandas as pd\n",
        "import numpy as np\n",
        "from keras.models import Model\n",
        "from keras.layers import Dense, Input, Dropout, LSTM, Activation\n",
        "from keras.layers import Embedding\n",
        "from keras.preprocessing import sequence\n",
        "from keras.initializers import glorot_uniform\n",
        "from sklearn.model_selection import train_test_split\n",
        "from keras.models import model_from_json\n",
        "from keras import optimizers\n",
        "import string\n",
        "import csv\n",
        "np.random.seed(1)"
      ],
      "execution_count": 2,
      "outputs": [
        {
          "output_type": "stream",
          "text": [
            "Using TensorFlow backend.\n"
          ],
          "name": "stderr"
        }
      ]
    },
    {
      "cell_type": "markdown",
      "metadata": {
        "id": "yn3-HIv-E0RB",
        "colab_type": "text"
      },
      "source": [
        "# Read csv file"
      ]
    },
    {
      "cell_type": "code",
      "metadata": {
        "id": "Ru9FKpls7FwB",
        "colab_type": "code",
        "colab": {}
      },
      "source": [
        "data = pd.read_csv(\"/content/drive/My Drive/niki/train (3) (1) (3) (2).csv\")"
      ],
      "execution_count": 0,
      "outputs": []
    },
    {
      "cell_type": "code",
      "metadata": {
        "id": "AMDuGkM37VZ4",
        "colab_type": "code",
        "outputId": "6fee4237-3788-4856-d431-6ff7864e704c",
        "colab": {
          "base_uri": "https://localhost:8080/",
          "height": 34
        }
      },
      "source": [
        "\n",
        "print(data.shape)"
      ],
      "execution_count": 4,
      "outputs": [
        {
          "output_type": "stream",
          "text": [
            "(5693, 6)\n"
          ],
          "name": "stdout"
        }
      ]
    },
    {
      "cell_type": "code",
      "metadata": {
        "id": "j2AYQ4tl7gz7",
        "colab_type": "code",
        "outputId": "bcbed904-fc2e-4593-86d6-b92059f690b6",
        "colab": {
          "base_uri": "https://localhost:8080/",
          "height": 34
        }
      },
      "source": [
        "#reason for not using Review title is because 5000 of them are none\n",
        "sub_data = data[['Review Text','Star Rating']] \n",
        "print(sub_data.shape)"
      ],
      "execution_count": 5,
      "outputs": [
        {
          "output_type": "stream",
          "text": [
            "(5693, 2)\n"
          ],
          "name": "stdout"
        }
      ]
    },
    {
      "cell_type": "code",
      "metadata": {
        "id": "jPE_wNobBGp1",
        "colab_type": "code",
        "outputId": "44599079-d8f9-4a90-cd79-85c65b124094",
        "colab": {
          "base_uri": "https://localhost:8080/",
          "height": 119
        }
      },
      "source": [
        "sub_data.replace('', np.nan, inplace=True)\n",
        "print(sub_data.shape)"
      ],
      "execution_count": 6,
      "outputs": [
        {
          "output_type": "stream",
          "text": [
            "(5693, 2)\n"
          ],
          "name": "stdout"
        },
        {
          "output_type": "stream",
          "text": [
            "/usr/local/lib/python3.6/dist-packages/pandas/core/frame.py:4042: SettingWithCopyWarning: \n",
            "A value is trying to be set on a copy of a slice from a DataFrame\n",
            "\n",
            "See the caveats in the documentation: http://pandas.pydata.org/pandas-docs/stable/indexing.html#indexing-view-versus-copy\n",
            "  method=method)\n"
          ],
          "name": "stderr"
        }
      ]
    },
    {
      "cell_type": "code",
      "metadata": {
        "id": "BvAws1cuBNOn",
        "colab_type": "code",
        "outputId": "7e0c54d1-3db3-447e-f559-ccf819c7d35a",
        "colab": {
          "base_uri": "https://localhost:8080/",
          "height": 119
        }
      },
      "source": [
        "sub_data.dropna( inplace=True)\n",
        "print(sub_data.shape)"
      ],
      "execution_count": 7,
      "outputs": [
        {
          "output_type": "stream",
          "text": [
            "(5692, 2)\n"
          ],
          "name": "stdout"
        },
        {
          "output_type": "stream",
          "text": [
            "/usr/local/lib/python3.6/dist-packages/ipykernel_launcher.py:1: SettingWithCopyWarning: \n",
            "A value is trying to be set on a copy of a slice from a DataFrame\n",
            "\n",
            "See the caveats in the documentation: http://pandas.pydata.org/pandas-docs/stable/indexing.html#indexing-view-versus-copy\n",
            "  \"\"\"Entry point for launching an IPython kernel.\n"
          ],
          "name": "stderr"
        }
      ]
    },
    {
      "cell_type": "markdown",
      "metadata": {
        "id": "aSZwt4GtE5OK",
        "colab_type": "text"
      },
      "source": [
        "# Remove Duplicates"
      ]
    },
    {
      "cell_type": "code",
      "metadata": {
        "id": "4QjDYcItbWf2",
        "colab_type": "code",
        "colab": {
          "base_uri": "https://localhost:8080/",
          "height": 119
        },
        "outputId": "f68d138d-7a50-4fa5-8570-544896bc0936"
      },
      "source": [
        "sub_data.duplicated(subset={'Review Text','Star Rating'},).value_counts()\n",
        "sub_data.drop_duplicates(subset={'Review Text','Star Rating'},keep=\"first\",inplace=True)\n",
        "print(sub_data.shape)"
      ],
      "execution_count": 8,
      "outputs": [
        {
          "output_type": "stream",
          "text": [
            "(4659, 2)\n"
          ],
          "name": "stdout"
        },
        {
          "output_type": "stream",
          "text": [
            "/usr/local/lib/python3.6/dist-packages/ipykernel_launcher.py:2: SettingWithCopyWarning: \n",
            "A value is trying to be set on a copy of a slice from a DataFrame\n",
            "\n",
            "See the caveats in the documentation: http://pandas.pydata.org/pandas-docs/stable/indexing.html#indexing-view-versus-copy\n",
            "  \n"
          ],
          "name": "stderr"
        }
      ]
    },
    {
      "cell_type": "code",
      "metadata": {
        "id": "WENfZ5oxDreu",
        "colab_type": "code",
        "outputId": "03ef5f44-f686-42a8-c989-2c63977972d8",
        "colab": {
          "base_uri": "https://localhost:8080/",
          "height": 119
        }
      },
      "source": [
        "print(sub_data.head())"
      ],
      "execution_count": 9,
      "outputs": [
        {
          "output_type": "stream",
          "text": [
            "                                         Review Text  Star Rating\n",
            "0                   Very bad wallet balance not use.            1\n",
            "1  Froud app i recharge 199 but not done also sen...            1\n",
            "2                       Waste to write comments also            2\n",
            "3                                           Nice apo            5\n",
            "4                                      Good nice app            5\n"
          ],
          "name": "stdout"
        }
      ]
    },
    {
      "cell_type": "markdown",
      "metadata": {
        "id": "WCRoonCbFFcY",
        "colab_type": "text"
      },
      "source": [
        "# Split into training and validation data"
      ]
    },
    {
      "cell_type": "code",
      "metadata": {
        "id": "SGtpHmrnFszm",
        "colab_type": "code",
        "outputId": "c4a156ba-3def-4476-f53e-8af7c63af4a8",
        "colab": {
          "base_uri": "https://localhost:8080/",
          "height": 51
        }
      },
      "source": [
        "\n",
        "X_train, X_test, y_train, y_test = train_test_split(np.array(sub_data[['Review Text']]),\n",
        "                                                    np.array(sub_data[['Star Rating']]), test_size=0.1, \n",
        "                                                    random_state=42)\n",
        "print(X_train.shape, y_train.shape)\n",
        "print(X_test.shape, y_test.shape)"
      ],
      "execution_count": 10,
      "outputs": [
        {
          "output_type": "stream",
          "text": [
            "(4193, 1) (4193, 1)\n",
            "(466, 1) (466, 1)\n"
          ],
          "name": "stdout"
        }
      ]
    },
    {
      "cell_type": "code",
      "metadata": {
        "id": "JpemXXlzGLyZ",
        "colab_type": "code",
        "colab": {}
      },
      "source": [
        "def convert_to_one_hot(Y, C):\n",
        "    Y_hot = np.zeros((Y.shape[0],C))\n",
        "    for i in range(Y.shape[0]):\n",
        "      Y_hot[i,Y[i][0]-1] = 1\n",
        "    \n",
        "    return Y_hot"
      ],
      "execution_count": 0,
      "outputs": []
    },
    {
      "cell_type": "code",
      "metadata": {
        "id": "WoZvdbA3GM_U",
        "colab_type": "code",
        "outputId": "97e82938-3ea2-4f85-8db3-b6f693416706",
        "colab": {
          "base_uri": "https://localhost:8080/",
          "height": 34
        }
      },
      "source": [
        "y_train = convert_to_one_hot(y_train,5)\n",
        "y_test = convert_to_one_hot(y_test,5)\n",
        "print(y_train.shape, y_test.shape)"
      ],
      "execution_count": 12,
      "outputs": [
        {
          "output_type": "stream",
          "text": [
            "(4193, 5) (466, 5)\n"
          ],
          "name": "stdout"
        }
      ]
    },
    {
      "cell_type": "code",
      "metadata": {
        "id": "mTPmjXciD1sQ",
        "colab_type": "code",
        "colab": {}
      },
      "source": [
        "def read_glove_vecs(glove_file):\n",
        "    with open(glove_file, 'r') as f:\n",
        "        words = set()\n",
        "        word_to_vec_map = {}\n",
        "        for line in f:\n",
        "            line = line.strip().split()\n",
        "            curr_word = line[0]\n",
        "            words.add(curr_word)\n",
        "            word_to_vec_map[curr_word] = np.array(line[1:], dtype=np.float64)\n",
        "        \n",
        "        i = 1\n",
        "        words_to_index = {}\n",
        "        index_to_words = {}\n",
        "        for w in sorted(words):\n",
        "            words_to_index[w] = i\n",
        "            index_to_words[i] = w\n",
        "            i = i + 1\n",
        "    return words_to_index, index_to_words, word_to_vec_map"
      ],
      "execution_count": 0,
      "outputs": []
    },
    {
      "cell_type": "markdown",
      "metadata": {
        "id": "eLdocFy6FMLn",
        "colab_type": "text"
      },
      "source": [
        "# Read glove word2vec"
      ]
    },
    {
      "cell_type": "code",
      "metadata": {
        "id": "aXZA0Tw5FoKb",
        "colab_type": "code",
        "colab": {}
      },
      "source": [
        "word_to_index, index_to_word, word_to_vec_map = read_glove_vecs('/content/drive/My Drive/toxicity/glove.6B.200d.txt')"
      ],
      "execution_count": 0,
      "outputs": []
    },
    {
      "cell_type": "code",
      "metadata": {
        "id": "tQp-K_GoH0nJ",
        "colab_type": "code",
        "outputId": "6a753912-9851-43b9-8fba-e9db8dc0c88f",
        "colab": {
          "base_uri": "https://localhost:8080/",
          "height": 34
        }
      },
      "source": [
        "word = \"0\"\n",
        "print(word_to_index[word])"
      ],
      "execution_count": 15,
      "outputs": [
        {
          "output_type": "stream",
          "text": [
            "1681\n"
          ],
          "name": "stdout"
        }
      ]
    },
    {
      "cell_type": "code",
      "metadata": {
        "id": "8dXV7CYGH36q",
        "colab_type": "code",
        "outputId": "1278f360-da0c-4d4a-ba43-142b8f3ab6aa",
        "colab": {
          "base_uri": "https://localhost:8080/",
          "height": 68
        }
      },
      "source": [
        "import string\n",
        "max_len = 0\n",
        "avg_len = 0\n",
        "num = 0\n",
        "for i in np.array(sub_data[['Review Text']]):\n",
        "  i = i[0]\n",
        "  #print(i)\n",
        "  tmp = len(i.translate(str.maketrans('','',string.punctuation)).lower().split())\n",
        "  num+=1\n",
        "  avg_len += tmp\n",
        "  if tmp>max_len:\n",
        "    max_len = tmp\n",
        "  #print(tmp)\n",
        "avg_len = avg_len/num\n",
        "print(max_len)\n",
        "print(avg_len)\n",
        "print(num)"
      ],
      "execution_count": 16,
      "outputs": [
        {
          "output_type": "stream",
          "text": [
            "365\n",
            "15.23846318952565\n",
            "4659\n"
          ],
          "name": "stdout"
        }
      ]
    },
    {
      "cell_type": "code",
      "metadata": {
        "id": "EJfwpRA7I8rC",
        "colab_type": "code",
        "colab": {}
      },
      "source": [
        "\n",
        "def sentences_to_indices(X, word_to_index, max_len):\n",
        "    m = X.shape[0]                                \n",
        "    X_indices = np.zeros((m, max_len))\n",
        "    \n",
        "    for i in range(m): \n",
        "        #print(X[i])\n",
        "        tmp = X[i][0].translate(str.maketrans('','',string.punctuation)).lower().split()\n",
        "        j = 0\n",
        "        for w in tmp:\n",
        "          if j>= max_len:\n",
        "            break\n",
        "          try:\n",
        "            X_indices[i, j] = word_to_index[w]\n",
        "            j = j+1\n",
        "            #print(w)\n",
        "          except KeyError:\n",
        "            #print(w)\n",
        "            pass\n",
        "            \n",
        "    \n",
        "    return X_indices"
      ],
      "execution_count": 0,
      "outputs": []
    },
    {
      "cell_type": "code",
      "metadata": {
        "id": "8LRWej1YJCz2",
        "colab_type": "code",
        "outputId": "517b21fa-873a-47b7-f525-6084c59498da",
        "colab": {
          "base_uri": "https://localhost:8080/",
          "height": 71
        }
      },
      "source": [
        "X_train[0]"
      ],
      "execution_count": 18,
      "outputs": [
        {
          "output_type": "execute_result",
          "data": {
            "text/plain": [
              "array([\"Useless App..does not support a lot of payments that other apps are supporting already. Don't waste your time like i did. Does not even support bsnl bill payment\"],\n",
              "      dtype=object)"
            ]
          },
          "metadata": {
            "tags": []
          },
          "execution_count": 18
        }
      ]
    },
    {
      "cell_type": "code",
      "metadata": {
        "id": "jxbe2M-VIPG0",
        "colab_type": "code",
        "colab": {}
      },
      "source": [
        "avg_len = int(avg_len)+1"
      ],
      "execution_count": 0,
      "outputs": []
    },
    {
      "cell_type": "code",
      "metadata": {
        "id": "KE9xW32AJM2j",
        "colab_type": "code",
        "outputId": "e11135b9-15b3-4c60-a163-45f6ca536f9a",
        "colab": {
          "base_uri": "https://localhost:8080/",
          "height": 51
        }
      },
      "source": [
        "X_train_indices = sentences_to_indices(X_train,word_to_index, avg_len)\n",
        "X_test_indices = sentences_to_indices(X_test,word_to_index, avg_len)\n",
        "\n",
        "print(X_train_indices.shape)\n",
        "print(X_test_indices.shape)"
      ],
      "execution_count": 20,
      "outputs": [
        {
          "output_type": "stream",
          "text": [
            "(4193, 16)\n",
            "(466, 16)\n"
          ],
          "name": "stdout"
        }
      ]
    },
    {
      "cell_type": "code",
      "metadata": {
        "id": "oEXRCw7eJdSE",
        "colab_type": "code",
        "colab": {}
      },
      "source": [
        "def pretrained_embedding_layer(word_to_vec_map, word_to_index):\n",
        "    vocab_len = len(word_to_index) + 1            \n",
        "    emb_dim = word_to_vec_map[\"cucumber\"].shape[0]  \n",
        "    emb_matrix = np.zeros((vocab_len, emb_dim))\n",
        "    for word, index in word_to_index.items():\n",
        "        emb_matrix[index, :] = word_to_vec_map[word]\n",
        "    \n",
        "    embedding_layer = Embedding(vocab_len, emb_dim, trainable=False)\n",
        "    embedding_layer.build((None,))\n",
        "    embedding_layer.set_weights([emb_matrix])\n",
        "#    embedding_layer = Embedding(vocab_len,\n",
        "#                             emb_dim,\n",
        "#                             weights=[emb_matrix],\n",
        "#                             trainable=False)\n",
        "    \n",
        "    return embedding_layer"
      ],
      "execution_count": 0,
      "outputs": []
    },
    {
      "cell_type": "markdown",
      "metadata": {
        "id": "BMlLqSKfFfmv",
        "colab_type": "text"
      },
      "source": [
        "# Intialise embedding layer with Glove word2vec"
      ]
    },
    {
      "cell_type": "code",
      "metadata": {
        "id": "wQkvnVqBJpb2",
        "colab_type": "code",
        "outputId": "fa502406-70d9-48c7-e440-41cd8e47d41c",
        "colab": {
          "base_uri": "https://localhost:8080/",
          "height": 224
        }
      },
      "source": [
        "embedding_layer = pretrained_embedding_layer(word_to_vec_map, word_to_index)\n",
        "print(embedding_layer)"
      ],
      "execution_count": 22,
      "outputs": [
        {
          "output_type": "stream",
          "text": [
            "WARNING:tensorflow:From /usr/local/lib/python3.6/dist-packages/keras/backend/tensorflow_backend.py:66: The name tf.get_default_graph is deprecated. Please use tf.compat.v1.get_default_graph instead.\n",
            "\n",
            "WARNING:tensorflow:From /usr/local/lib/python3.6/dist-packages/keras/backend/tensorflow_backend.py:4432: The name tf.random_uniform is deprecated. Please use tf.random.uniform instead.\n",
            "\n",
            "WARNING:tensorflow:From /usr/local/lib/python3.6/dist-packages/keras/backend/tensorflow_backend.py:190: The name tf.get_default_session is deprecated. Please use tf.compat.v1.get_default_session instead.\n",
            "\n",
            "WARNING:tensorflow:From /usr/local/lib/python3.6/dist-packages/keras/backend/tensorflow_backend.py:197: The name tf.ConfigProto is deprecated. Please use tf.compat.v1.ConfigProto instead.\n",
            "\n",
            "WARNING:tensorflow:From /usr/local/lib/python3.6/dist-packages/keras/backend/tensorflow_backend.py:203: The name tf.Session is deprecated. Please use tf.compat.v1.Session instead.\n",
            "\n",
            "<keras.layers.embeddings.Embedding object at 0x7fd3c76ca710>\n"
          ],
          "name": "stdout"
        }
      ]
    },
    {
      "cell_type": "markdown",
      "metadata": {
        "id": "Hf4zxE4FFZoT",
        "colab_type": "text"
      },
      "source": [
        "# Build the network"
      ]
    },
    {
      "cell_type": "code",
      "metadata": {
        "id": "kq7pIt1TJ7gK",
        "colab_type": "code",
        "colab": {}
      },
      "source": [
        "def network(input_shape, word_to_vec_map, word_to_index):\n",
        "    sentence_indices = Input(input_shape, dtype='int32')\n",
        "    embedding_layer = pretrained_embedding_layer(word_to_vec_map, word_to_index)\n",
        "    embeddings = embedding_layer(sentence_indices) \n",
        "    X = LSTM(256, return_sequences=True)(embeddings)\n",
        "    #X = Dropout(0.6)(X)\n",
        "    X = LSTM(256, return_sequences=False)(X)\n",
        "    #X = Dropout(0.6)(X)\n",
        "    X = Dense(5)(X)\n",
        "    X =  Activation('softmax')(X)\n",
        "    model = Model(inputs=sentence_indices, outputs=X)\n",
        "    \n",
        "    return model"
      ],
      "execution_count": 0,
      "outputs": []
    },
    {
      "cell_type": "code",
      "metadata": {
        "id": "C6snSAgdJ_37",
        "colab_type": "code",
        "outputId": "8aaeab30-9070-446f-ff7e-b57844c38a0c",
        "colab": {
          "base_uri": "https://localhost:8080/",
          "height": 357
        }
      },
      "source": [
        "model = network((None,), word_to_vec_map, word_to_index)\n",
        "model.summary()"
      ],
      "execution_count": 35,
      "outputs": [
        {
          "output_type": "stream",
          "text": [
            "Model: \"model_2\"\n",
            "_________________________________________________________________\n",
            "Layer (type)                 Output Shape              Param #   \n",
            "=================================================================\n",
            "input_2 (InputLayer)         (None, None)              0         \n",
            "_________________________________________________________________\n",
            "embedding_3 (Embedding)      (None, None, 200)         80000200  \n",
            "_________________________________________________________________\n",
            "lstm_3 (LSTM)                (None, None, 256)         467968    \n",
            "_________________________________________________________________\n",
            "lstm_4 (LSTM)                (None, 256)               525312    \n",
            "_________________________________________________________________\n",
            "dense_2 (Dense)              (None, 5)                 1285      \n",
            "_________________________________________________________________\n",
            "activation_2 (Activation)    (None, 5)                 0         \n",
            "=================================================================\n",
            "Total params: 80,994,765\n",
            "Trainable params: 994,565\n",
            "Non-trainable params: 80,000,200\n",
            "_________________________________________________________________\n"
          ],
          "name": "stdout"
        }
      ]
    },
    {
      "cell_type": "code",
      "metadata": {
        "id": "2ByLiuA6JsrI",
        "colab_type": "code",
        "colab": {}
      },
      "source": [
        "sgd = optimizers.SGD(lr=0.1, decay=1e-4, momentum=0.9, nesterov=True)\n",
        "adam =optimizers.Adam(lr=0.0001, beta_1=0.9, beta_2=0.999,  decay=0)\n",
        "model.compile(loss='categorical_crossentropy', optimizer=\"adam\", metrics=['accuracy'])"
      ],
      "execution_count": 0,
      "outputs": []
    },
    {
      "cell_type": "markdown",
      "metadata": {
        "id": "lnjX7c-SFmLO",
        "colab_type": "text"
      },
      "source": [
        "# Fit the network"
      ]
    },
    {
      "cell_type": "code",
      "metadata": {
        "id": "jVrNPnpgKI2A",
        "colab_type": "code",
        "colab": {}
      },
      "source": [
        "#class_weight ={0:2083/1729,1:2083/153,2:2083/204,3:2083/490,4:1}\n",
        "\n",
        "model.fit(X_train_indices, y_train,validation_data=(X_test_indices, y_test), epochs = 45,\n",
        "          batch_size = 64, shuffle=True)#,class_weight = class_weight)"
      ],
      "execution_count": 0,
      "outputs": []
    },
    {
      "cell_type": "markdown",
      "metadata": {
        "id": "juUK6XM6aWG8",
        "colab_type": "text"
      },
      "source": [
        "# Weighted F-Score"
      ]
    },
    {
      "cell_type": "code",
      "metadata": {
        "id": "njbKGPV-MMip",
        "colab_type": "code",
        "colab": {
          "base_uri": "https://localhost:8080/",
          "height": 34
        },
        "outputId": "35929e77-7f51-4337-d2dc-b05e9c9daab7"
      },
      "source": [
        "from sklearn.metrics import f1_score\n",
        "y_true = np.argmax(y_test, axis=1)\n",
        "y_pred = np.argmax(model.predict(X_test_indices), axis=1)\n",
        "print(f1_score(y_true, y_pred, average='weighted')  )"
      ],
      "execution_count": 38,
      "outputs": [
        {
          "output_type": "stream",
          "text": [
            "0.6517983778019384\n"
          ],
          "name": "stdout"
        }
      ]
    },
    {
      "cell_type": "code",
      "metadata": {
        "id": "1EqpUsBGKVcA",
        "colab_type": "code",
        "outputId": "9e0fa344-711a-4cab-9e22-35c21b9942cc",
        "colab": {
          "base_uri": "https://localhost:8080/",
          "height": 34
        }
      },
      "source": [
        "model_json = model.to_json()\n",
        "with open(\"/content/drive/My Drive/niki/model.json\", \"w\") as json_file:\n",
        "    json_file.write(model_json)\n",
        "\n",
        "model.save_weights(\"/content/drive/My Drive/niki/model.h5\")\n",
        "print(\"Saved model to disk\")"
      ],
      "execution_count": 41,
      "outputs": [
        {
          "output_type": "stream",
          "text": [
            "Saved model to disk\n"
          ],
          "name": "stdout"
        }
      ]
    },
    {
      "cell_type": "code",
      "metadata": {
        "id": "2PGROgnlKXaP",
        "colab_type": "code",
        "outputId": "666f74a7-a3bf-4b8a-8207-fc21648fafaa",
        "colab": {
          "base_uri": "https://localhost:8080/",
          "height": 34
        }
      },
      "source": [
        "\n",
        "json_file = open(\"/content/drive/My Drive/niki/model.json\", 'r')\n",
        "loaded_model_json = json_file.read()\n",
        "json_file.close()\n",
        "loaded_model = model_from_json(loaded_model_json)\n",
        "loaded_model.load_weights(\"/content/drive/My Drive/niki/model.h5\")\n",
        "print(\"Loaded model from disk\")\n",
        "\n",
        "loaded_model.compile(loss='binary_crossentropy', optimizer='adam', metrics=['accuracy'])"
      ],
      "execution_count": 42,
      "outputs": [
        {
          "output_type": "stream",
          "text": [
            "Loaded model from disk\n"
          ],
          "name": "stdout"
        }
      ]
    },
    {
      "cell_type": "code",
      "metadata": {
        "id": "7a9SHZ2QTcQU",
        "colab_type": "code",
        "colab": {
          "base_uri": "https://localhost:8080/",
          "height": 357
        },
        "outputId": "9b057fd9-42ba-4037-ef24-c4648417647f"
      },
      "source": [
        "loaded_model.summary()"
      ],
      "execution_count": 43,
      "outputs": [
        {
          "output_type": "stream",
          "text": [
            "Model: \"model_2\"\n",
            "_________________________________________________________________\n",
            "Layer (type)                 Output Shape              Param #   \n",
            "=================================================================\n",
            "input_2 (InputLayer)         (None, None)              0         \n",
            "_________________________________________________________________\n",
            "embedding_3 (Embedding)      (None, None, 200)         80000200  \n",
            "_________________________________________________________________\n",
            "lstm_3 (LSTM)                (None, None, 256)         467968    \n",
            "_________________________________________________________________\n",
            "lstm_4 (LSTM)                (None, 256)               525312    \n",
            "_________________________________________________________________\n",
            "dense_2 (Dense)              (None, 5)                 1285      \n",
            "_________________________________________________________________\n",
            "activation_2 (Activation)    (None, 5)                 0         \n",
            "=================================================================\n",
            "Total params: 80,994,765\n",
            "Trainable params: 994,565\n",
            "Non-trainable params: 80,000,200\n",
            "_________________________________________________________________\n"
          ],
          "name": "stdout"
        }
      ]
    },
    {
      "cell_type": "code",
      "metadata": {
        "id": "bvPembHXLdjj",
        "colab_type": "code",
        "colab": {}
      },
      "source": [
        "def text_sentence_to_indices(text_sentence, word_to_index):\n",
        "    tmp = text_sentence.translate(str.maketrans('','',string.punctuation)).lower().split()\n",
        "    j = 0\n",
        "    X_indices = np.zeros((1, len(tmp)))\n",
        "    for w in tmp:\n",
        "      try:\n",
        "        X_indices[0, j] = word_to_index[w]\n",
        "        j = j+1\n",
        "        #print(w)\n",
        "      except KeyError:\n",
        "        #print(w)\n",
        "        pass\n",
        "            \n",
        "    \n",
        "    return X_indices"
      ],
      "execution_count": 0,
      "outputs": []
    },
    {
      "cell_type": "code",
      "metadata": {
        "id": "maezl40hLkx3",
        "colab_type": "code",
        "outputId": "2028b9a2-cb1e-4d91-ea19-6e39051752dc",
        "colab": {
          "base_uri": "https://localhost:8080/",
          "height": 34
        }
      },
      "source": [
        "\n",
        "s = \"Awesome app, all should use it\"\n",
        "ind = text_sentence_to_indices(s,word_to_index)\n",
        "print(ind)"
      ],
      "execution_count": 39,
      "outputs": [
        {
          "output_type": "stream",
          "text": [
            "[[ 64354.  57667.  51582. 329916. 374163. 193716.]]\n"
          ],
          "name": "stdout"
        }
      ]
    },
    {
      "cell_type": "code",
      "metadata": {
        "id": "9CBlT8HlLl2v",
        "colab_type": "code",
        "outputId": "daad8c3a-f9cd-4930-905f-3b8825164328",
        "colab": {
          "base_uri": "https://localhost:8080/",
          "height": 51
        }
      },
      "source": [
        "loaded_model.predict(ind)"
      ],
      "execution_count": 44,
      "outputs": [
        {
          "output_type": "execute_result",
          "data": {
            "text/plain": [
              "array([[1.4275568e-02, 5.2325381e-04, 3.4637565e-03, 1.8413547e-02,\n",
              "        9.6332389e-01]], dtype=float32)"
            ]
          },
          "metadata": {
            "tags": []
          },
          "execution_count": 44
        }
      ]
    },
    {
      "cell_type": "markdown",
      "metadata": {
        "id": "QMcv8jzbSQ15",
        "colab_type": "text"
      },
      "source": [
        "# Read test data"
      ]
    },
    {
      "cell_type": "code",
      "metadata": {
        "id": "BeeN3VvhCJyl",
        "colab_type": "code",
        "outputId": "d1422fa6-99da-4ee3-97fb-0322906c330d",
        "colab": {
          "base_uri": "https://localhost:8080/",
          "height": 238
        }
      },
      "source": [
        "test_data = pd.read_csv(\"/content/drive/My Drive/niki/test (3) (1) (3) (2).csv\")\n",
        "sub_test_data = test_data[['id','Review Text']] \n",
        "print(sub_test_data.shape)\n",
        "sub_test_data.replace('', np.nan, inplace=True)\n",
        "print(sub_test_data.shape)\n",
        "sub_test_data.dropna( inplace=True)\n",
        "print(sub_test_data.shape)"
      ],
      "execution_count": 45,
      "outputs": [
        {
          "output_type": "stream",
          "text": [
            "(1424, 2)\n",
            "(1424, 2)\n",
            "(1423, 2)\n"
          ],
          "name": "stdout"
        },
        {
          "output_type": "stream",
          "text": [
            "/usr/local/lib/python3.6/dist-packages/pandas/core/frame.py:4042: SettingWithCopyWarning: \n",
            "A value is trying to be set on a copy of a slice from a DataFrame\n",
            "\n",
            "See the caveats in the documentation: http://pandas.pydata.org/pandas-docs/stable/indexing.html#indexing-view-versus-copy\n",
            "  method=method)\n",
            "/usr/local/lib/python3.6/dist-packages/ipykernel_launcher.py:6: SettingWithCopyWarning: \n",
            "A value is trying to be set on a copy of a slice from a DataFrame\n",
            "\n",
            "See the caveats in the documentation: http://pandas.pydata.org/pandas-docs/stable/indexing.html#indexing-view-versus-copy\n",
            "  \n"
          ],
          "name": "stderr"
        }
      ]
    },
    {
      "cell_type": "markdown",
      "metadata": {
        "id": "KQLyAplBSVBm",
        "colab_type": "text"
      },
      "source": [
        "# Predict on test data"
      ]
    },
    {
      "cell_type": "code",
      "metadata": {
        "id": "Ssbr_ffYWv8O",
        "colab_type": "code",
        "colab": {}
      },
      "source": [
        "csv_data = [[\"id\",\"Star Rating\"]]\n",
        "sub_test_data = np.array(sub_test_data)\n",
        "for i in range(sub_test_data.shape[0]):\n",
        "  ind = text_sentence_to_indices(sub_test_data[i,1],word_to_index)\n",
        "  pred_label = np.argmax(loaded_model.predict(ind))+1\n",
        "  csv_data.append([sub_test_data[i,0],pred_label])"
      ],
      "execution_count": 0,
      "outputs": []
    },
    {
      "cell_type": "markdown",
      "metadata": {
        "id": "_sbhvd6MR-ed",
        "colab_type": "text"
      },
      "source": [
        "# Save the predictions"
      ]
    },
    {
      "cell_type": "code",
      "metadata": {
        "id": "cvd8k1Qr_9Bz",
        "colab_type": "code",
        "colab": {}
      },
      "source": [
        "with open(\"/content/drive/My Drive/niki/predictions.csv\", 'w') as csvfile: \n",
        "    csvwriter = csv.writer(csvfile) \n",
        "    csvwriter.writerows(csv_data)"
      ],
      "execution_count": 0,
      "outputs": []
    },
    {
      "cell_type": "markdown",
      "metadata": {
        "id": "bv-R_bx-GnwH",
        "colab_type": "text"
      },
      "source": [
        "# References:\n",
        "\n",
        "\n",
        "* Deep Learning by Andrew Ng, coursera \n",
        "\n"
      ]
    }
  ]
}