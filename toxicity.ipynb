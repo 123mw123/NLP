{
  "nbformat": 4,
  "nbformat_minor": 0,
  "metadata": {
    "kernelspec": {
      "name": "python3",
      "display_name": "Python 3"
    },
    "language_info": {
      "codemirror_mode": {
        "name": "ipython",
        "version": 3
      },
      "file_extension": ".py",
      "mimetype": "text/x-python",
      "name": "python",
      "nbconvert_exporter": "python",
      "pygments_lexer": "ipython3",
      "version": "3.6.7"
    },
    "colab": {
      "name": "toxicity.ipynb",
      "version": "0.3.2",
      "provenance": [],
      "collapsed_sections": [],
      "machine_shape": "hm"
    },
    "accelerator": "GPU"
  },
  "cells": [
    {
      "cell_type": "code",
      "metadata": {
        "id": "mmmz477dS4Ni",
        "colab_type": "code",
        "outputId": "661fa972-b66c-414a-9039-4f7c9844051d",
        "colab": {
          "base_uri": "https://localhost:8080/",
          "height": 122
        }
      },
      "source": [
        "# Load the Drive helper and mount\n",
        "from google.colab import drive\n",
        "\n",
        "# This will prompt for authorization.\n",
        "drive.mount('/content/drive', force_remount=True)"
      ],
      "execution_count": 1,
      "outputs": [
        {
          "output_type": "stream",
          "text": [
            "Go to this URL in a browser: https://accounts.google.com/o/oauth2/auth?client_id=947318989803-6bn6qk8qdgf4n4g3pfee6491hc0brc4i.apps.googleusercontent.com&redirect_uri=urn%3Aietf%3Awg%3Aoauth%3A2.0%3Aoob&scope=email%20https%3A%2F%2Fwww.googleapis.com%2Fauth%2Fdocs.test%20https%3A%2F%2Fwww.googleapis.com%2Fauth%2Fdrive%20https%3A%2F%2Fwww.googleapis.com%2Fauth%2Fdrive.photos.readonly%20https%3A%2F%2Fwww.googleapis.com%2Fauth%2Fpeopleapi.readonly&response_type=code\n",
            "\n",
            "Enter your authorization code:\n",
            "··········\n",
            "Mounted at /content/drive\n"
          ],
          "name": "stdout"
        }
      ]
    },
    {
      "cell_type": "code",
      "metadata": {
        "id": "omiHl4AMSWug",
        "colab_type": "code",
        "colab": {}
      },
      "source": [
        "import pandas as pd\n",
        "import numpy as np"
      ],
      "execution_count": 0,
      "outputs": []
    },
    {
      "cell_type": "code",
      "metadata": {
        "id": "HTv1sA6OSWul",
        "colab_type": "code",
        "colab": {}
      },
      "source": [
        "data = pd.read_csv(\"/content/drive/My Drive/toxicity/train.csv\")"
      ],
      "execution_count": 0,
      "outputs": []
    },
    {
      "cell_type": "code",
      "metadata": {
        "scrolled": true,
        "id": "GXAB3rqrSWut",
        "colab_type": "code",
        "outputId": "52ba0b0c-7d68-46d1-b8eb-e40bed4a2f4c",
        "colab": {
          "base_uri": "https://localhost:8080/",
          "height": 34
        }
      },
      "source": [
        "print(data.shape)"
      ],
      "execution_count": 4,
      "outputs": [
        {
          "output_type": "stream",
          "text": [
            "(1804874, 45)\n"
          ],
          "name": "stdout"
        }
      ]
    },
    {
      "cell_type": "code",
      "metadata": {
        "scrolled": true,
        "id": "VgGxxmKjSWuy",
        "colab_type": "code",
        "outputId": "ea8bcd75-bcf2-4748-db44-ce3995a0f4ac",
        "colab": {
          "base_uri": "https://localhost:8080/",
          "height": 34
        }
      },
      "source": [
        "data = data[['target', 'comment_text']] \n",
        "print(data.shape)"
      ],
      "execution_count": 5,
      "outputs": [
        {
          "output_type": "stream",
          "text": [
            "(1804874, 2)\n"
          ],
          "name": "stdout"
        }
      ]
    },
    {
      "cell_type": "code",
      "metadata": {
        "id": "3A1SHEqXSWu2",
        "colab_type": "code",
        "colab": {}
      },
      "source": [
        "data.replace('', np.nan, inplace=True)"
      ],
      "execution_count": 0,
      "outputs": []
    },
    {
      "cell_type": "code",
      "metadata": {
        "id": "eUIVrXkjSWu6",
        "colab_type": "code",
        "colab": {}
      },
      "source": [
        "data.dropna( inplace=True)"
      ],
      "execution_count": 0,
      "outputs": []
    },
    {
      "cell_type": "code",
      "metadata": {
        "id": "roeKgB_BSWu9",
        "colab_type": "code",
        "outputId": "a273e626-abc0-4f70-a498-c7fa6eec2d80",
        "colab": {
          "base_uri": "https://localhost:8080/",
          "height": 34
        }
      },
      "source": [
        "print(data.shape)"
      ],
      "execution_count": 8,
      "outputs": [
        {
          "output_type": "stream",
          "text": [
            "(1804874, 2)\n"
          ],
          "name": "stdout"
        }
      ]
    },
    {
      "cell_type": "code",
      "metadata": {
        "id": "QVUPqWxgSWvB",
        "colab_type": "code",
        "outputId": "b6f22012-5cc8-4ed6-c423-058b5c081df4",
        "colab": {
          "base_uri": "https://localhost:8080/",
          "height": 119
        }
      },
      "source": [
        "print(data.head())"
      ],
      "execution_count": 9,
      "outputs": [
        {
          "output_type": "stream",
          "text": [
            "     target                                       comment_text\n",
            "0  0.000000  This is so cool. It's like, 'would you want yo...\n",
            "1  0.000000  Thank you!! This would make my life a lot less...\n",
            "2  0.000000  This is such an urgent design problem; kudos t...\n",
            "3  0.000000  Is this something I'll be able to install on m...\n",
            "4  0.893617               haha you guys are a bunch of losers.\n"
          ],
          "name": "stdout"
        }
      ]
    },
    {
      "cell_type": "code",
      "metadata": {
        "id": "S4KNJwuUSWvO",
        "colab_type": "code",
        "outputId": "68d95aec-75a8-4e5a-ee84-40f0c4eb7546",
        "colab": {
          "base_uri": "https://localhost:8080/",
          "height": 34
        }
      },
      "source": [
        "data.target  = pd.to_numeric(data.target , errors='coerce', downcast='float')\n",
        "data.dropna( inplace=True)\n",
        "print(data.shape)"
      ],
      "execution_count": 10,
      "outputs": [
        {
          "output_type": "stream",
          "text": [
            "(1804874, 2)\n"
          ],
          "name": "stdout"
        }
      ]
    },
    {
      "cell_type": "code",
      "metadata": {
        "id": "xETy44p3SWvF",
        "colab_type": "code",
        "outputId": "41d1dd8c-6bcb-4d52-e6c6-128b625cf5fc",
        "colab": {
          "base_uri": "https://localhost:8080/",
          "height": 34
        }
      },
      "source": [
        "pos = data[data[\"target\"]>=0.5]\n",
        "print(pos.shape)"
      ],
      "execution_count": 11,
      "outputs": [
        {
          "output_type": "stream",
          "text": [
            "(144334, 2)\n"
          ],
          "name": "stdout"
        }
      ]
    },
    {
      "cell_type": "code",
      "metadata": {
        "id": "JaklMYkqSWvJ",
        "colab_type": "code",
        "outputId": "11a0808f-b8c5-4301-fd46-a11733ab0ee1",
        "colab": {
          "base_uri": "https://localhost:8080/",
          "height": 34
        }
      },
      "source": [
        "neg = data[data[\"target\"]<0.5]\n",
        "print(neg.shape)"
      ],
      "execution_count": 12,
      "outputs": [
        {
          "output_type": "stream",
          "text": [
            "(1660540, 2)\n"
          ],
          "name": "stdout"
        }
      ]
    },
    {
      "cell_type": "code",
      "metadata": {
        "id": "Sjb8Kya3VaMh",
        "colab_type": "code",
        "outputId": "efd324a4-8df3-4674-a7e8-bfea71db9ff6",
        "colab": {
          "base_uri": "https://localhost:8080/",
          "height": 34
        }
      },
      "source": [
        "neg = data.sample(n=pos.shape[0],replace=True)\n",
        "print(neg.shape)"
      ],
      "execution_count": 13,
      "outputs": [
        {
          "output_type": "stream",
          "text": [
            "(144334, 2)\n"
          ],
          "name": "stdout"
        }
      ]
    },
    {
      "cell_type": "code",
      "metadata": {
        "id": "mIA1hxyNVugT",
        "colab_type": "code",
        "outputId": "48d39b45-19f9-4069-9c6c-37669fb66e9e",
        "colab": {
          "base_uri": "https://localhost:8080/",
          "height": 34
        }
      },
      "source": [
        "data = pd.concat([pos, neg])\n",
        "print(data.shape)"
      ],
      "execution_count": 14,
      "outputs": [
        {
          "output_type": "stream",
          "text": [
            "(288668, 2)\n"
          ],
          "name": "stdout"
        }
      ]
    },
    {
      "cell_type": "code",
      "metadata": {
        "id": "fEIhOhYgXc6L",
        "colab_type": "code",
        "outputId": "d4f6f912-3655-4d01-9ba3-917e1b541094",
        "colab": {
          "base_uri": "https://localhost:8080/",
          "height": 119
        }
      },
      "source": [
        "print(data.head())"
      ],
      "execution_count": 15,
      "outputs": [
        {
          "output_type": "stream",
          "text": [
            "      target                                       comment_text\n",
            "4   0.893617               haha you guys are a bunch of losers.\n",
            "5   0.666667                               ur a sh*tty comment.\n",
            "13  0.600000  It's ridiculous that these guys are being call...\n",
            "14  0.500000  This story gets more ridiculous by the hour! A...\n",
            "19  0.500000  Angry trolls, misogynists and Racists\", oh my....\n"
          ],
          "name": "stdout"
        }
      ]
    },
    {
      "cell_type": "code",
      "metadata": {
        "id": "fx00VLWbSWvS",
        "colab_type": "code",
        "outputId": "aef86b42-76c4-4106-ddde-bbfe769ecb35",
        "colab": {
          "base_uri": "https://localhost:8080/",
          "height": 34
        }
      },
      "source": [
        "data.target = np.where(data[\"target\"]>=0.5, 1,0)\n",
        "print(data.shape)\n"
      ],
      "execution_count": 16,
      "outputs": [
        {
          "output_type": "stream",
          "text": [
            "(288668, 2)\n"
          ],
          "name": "stdout"
        }
      ]
    },
    {
      "cell_type": "code",
      "metadata": {
        "id": "LlJXzOTLXvxx",
        "colab_type": "code",
        "outputId": "949ea683-1993-43ed-f6f9-a7cb6109d46d",
        "colab": {
          "base_uri": "https://localhost:8080/",
          "height": 51
        }
      },
      "source": [
        "from sklearn.model_selection import train_test_split\n",
        "X_train, X_test, y_train, y_test = train_test_split(np.array(data.comment_text),\n",
        "                                                    np.array(data.target), test_size=0.2, \n",
        "                                                    random_state=42)\n",
        "print(X_train.shape, y_train.shape)\n",
        "print(X_test.shape, y_test.shape)"
      ],
      "execution_count": 17,
      "outputs": [
        {
          "output_type": "stream",
          "text": [
            "(230934,) (230934,)\n",
            "(57734,) (57734,)\n"
          ],
          "name": "stdout"
        }
      ]
    },
    {
      "cell_type": "code",
      "metadata": {
        "id": "LFZMnb9Ockqn",
        "colab_type": "code",
        "colab": {
          "base_uri": "https://localhost:8080/",
          "height": 34
        },
        "outputId": "70267add-180c-4fa1-d0ba-623534b9bbb6"
      },
      "source": [
        "from keras.models import Model\n",
        "from keras.layers import Dense, Input, Dropout, LSTM, Activation\n",
        "from keras.layers import Embedding\n",
        "from keras.preprocessing import sequence\n",
        "from keras.initializers import glorot_uniform\n",
        "np.random.seed(1)"
      ],
      "execution_count": 18,
      "outputs": [
        {
          "output_type": "stream",
          "text": [
            "Using TensorFlow backend.\n"
          ],
          "name": "stderr"
        }
      ]
    },
    {
      "cell_type": "code",
      "metadata": {
        "id": "TEouvB5MdJWv",
        "colab_type": "code",
        "colab": {}
      },
      "source": [
        "def read_glove_vecs(glove_file):\n",
        "    with open(glove_file, 'r') as f:\n",
        "        words = set()\n",
        "        word_to_vec_map = {}\n",
        "        for line in f:\n",
        "            line = line.strip().split()\n",
        "            curr_word = line[0]\n",
        "            words.add(curr_word)\n",
        "            word_to_vec_map[curr_word] = np.array(line[1:], dtype=np.float64)\n",
        "        \n",
        "        i = 1\n",
        "        words_to_index = {}\n",
        "        index_to_words = {}\n",
        "        for w in sorted(words):\n",
        "            words_to_index[w] = i\n",
        "            index_to_words[i] = w\n",
        "            i = i + 1\n",
        "    return words_to_index, index_to_words, word_to_vec_map"
      ],
      "execution_count": 0,
      "outputs": []
    },
    {
      "cell_type": "code",
      "metadata": {
        "id": "dzKvkv2slsCu",
        "colab_type": "code",
        "colab": {}
      },
      "source": [
        "word_to_index, index_to_word, word_to_vec_map = read_glove_vecs('/content/drive/My Drive/toxicity/glove.6B.100d.txt')"
      ],
      "execution_count": 0,
      "outputs": []
    },
    {
      "cell_type": "code",
      "metadata": {
        "id": "85OUhtVhnMFq",
        "colab_type": "code",
        "outputId": "c61f5cdb-dcd0-4a65-9333-d5713671ceca",
        "colab": {
          "base_uri": "https://localhost:8080/",
          "height": 34
        }
      },
      "source": [
        "word = \"0\"\n",
        "print(word_to_index[word])"
      ],
      "execution_count": 21,
      "outputs": [
        {
          "output_type": "stream",
          "text": [
            "1681\n"
          ],
          "name": "stdout"
        }
      ]
    },
    {
      "cell_type": "code",
      "metadata": {
        "id": "Ii2SIbrgl8dd",
        "colab_type": "code",
        "outputId": "2855eab8-dfe6-4314-edea-5adb7385d60d",
        "colab": {
          "base_uri": "https://localhost:8080/",
          "height": 51
        }
      },
      "source": [
        "import string\n",
        "max_len = 0\n",
        "avg_len = 0\n",
        "num = 0\n",
        "for i in data.comment_text:\n",
        "  tmp = len(i.translate(str.maketrans('','',string.punctuation)).lower().split())\n",
        "  num+=1\n",
        "  avg_len += tmp\n",
        "  if tmp>max_len:\n",
        "    max_len = tmp\n",
        "avg_len = avg_len/num\n",
        "print(max_len)\n",
        "print(avg_len)"
      ],
      "execution_count": 22,
      "outputs": [
        {
          "output_type": "stream",
          "text": [
            "311\n",
            "49.47640542076018\n"
          ],
          "name": "stdout"
        }
      ]
    },
    {
      "cell_type": "code",
      "metadata": {
        "id": "I4_1qjuRqKmJ",
        "colab_type": "code",
        "colab": {}
      },
      "source": [
        "def sentences_to_indices(X, word_to_index, max_len):\n",
        "    m = X.shape[0]                                \n",
        "    X_indices = np.zeros((m, max_len))\n",
        "    \n",
        "    for i in range(m): \n",
        "        #print(X[i])\n",
        "        tmp = X[i].translate(str.maketrans('','',string.punctuation)).lower().split()\n",
        "        j = 0\n",
        "        for w in tmp:\n",
        "          if j>= max_len:\n",
        "            break\n",
        "          try:\n",
        "            X_indices[i, j] = word_to_index[w]\n",
        "            j = j+1\n",
        "            #print(w)\n",
        "          except KeyError:\n",
        "            #print(w)\n",
        "            pass\n",
        "            \n",
        "    \n",
        "    return X_indices"
      ],
      "execution_count": 0,
      "outputs": []
    },
    {
      "cell_type": "code",
      "metadata": {
        "id": "z7f0q4AFrqgL",
        "colab_type": "code",
        "outputId": "9bc11940-8e3b-44ca-f1ae-0c2466fb8813",
        "colab": {
          "base_uri": "https://localhost:8080/",
          "height": 54
        }
      },
      "source": [
        "X_train[0]"
      ],
      "execution_count": 24,
      "outputs": [
        {
          "output_type": "execute_result",
          "data": {
            "text/plain": [
              "'\"Baker said he heard the voice of God telling him to kill the young carnival worker or “die immediately.”\"\\n\\nBaker is no different from any other religious person.  Would it kill us to respect his religious views?'"
            ]
          },
          "metadata": {
            "tags": []
          },
          "execution_count": 24
        }
      ]
    },
    {
      "cell_type": "code",
      "metadata": {
        "id": "Yvx23djNV73J",
        "colab_type": "code",
        "colab": {}
      },
      "source": [
        "avg_len = int(avg_len)"
      ],
      "execution_count": 0,
      "outputs": []
    },
    {
      "cell_type": "code",
      "metadata": {
        "id": "hF0nMsW3rC-6",
        "colab_type": "code",
        "outputId": "3cc62d67-c3f1-4d0d-d22a-0fb0e41d6b91",
        "colab": {
          "base_uri": "https://localhost:8080/",
          "height": 51
        }
      },
      "source": [
        "X_train_indices = sentences_to_indices(X_train,word_to_index, avg_len)\n",
        "X_test_indices = sentences_to_indices(X_test,word_to_index, avg_len)\n",
        "\n",
        "print(X_train_indices.shape)\n",
        "print(X_test_indices.shape)"
      ],
      "execution_count": 26,
      "outputs": [
        {
          "output_type": "stream",
          "text": [
            "(230934, 49)\n",
            "(57734, 49)\n"
          ],
          "name": "stdout"
        }
      ]
    },
    {
      "cell_type": "code",
      "metadata": {
        "id": "CkctPiEbv3h7",
        "colab_type": "code",
        "colab": {}
      },
      "source": [
        "def pretrained_embedding_layer(word_to_vec_map, word_to_index):\n",
        "    vocab_len = len(word_to_index) + 1            \n",
        "    emb_dim = word_to_vec_map[\"cucumber\"].shape[0]  \n",
        "    emb_matrix = np.zeros((vocab_len, emb_dim))\n",
        "    for word, index in word_to_index.items():\n",
        "        emb_matrix[index, :] = word_to_vec_map[word]\n",
        "    \n",
        "    embedding_layer = Embedding(vocab_len, emb_dim, trainable=False)\n",
        "    embedding_layer.build((None,))\n",
        "    embedding_layer.set_weights([emb_matrix])\n",
        "#    embedding_layer = Embedding(vocab_len,\n",
        "#                             emb_dim,\n",
        "#                             weights=[emb_matrix],\n",
        "#                             trainable=False)\n",
        "    \n",
        "    return embedding_layer"
      ],
      "execution_count": 0,
      "outputs": []
    },
    {
      "cell_type": "code",
      "metadata": {
        "id": "FAUK8QInygro",
        "colab_type": "code",
        "outputId": "f5b74d9b-135d-4138-a0d6-ec237a16ed5d",
        "colab": {
          "base_uri": "https://localhost:8080/",
          "height": 241
        }
      },
      "source": [
        "embedding_layer = pretrained_embedding_layer(word_to_vec_map, word_to_index)\n",
        "print(embedding_layer)"
      ],
      "execution_count": 28,
      "outputs": [
        {
          "output_type": "stream",
          "text": [
            "WARNING: Logging before flag parsing goes to stderr.\n",
            "W0815 17:28:58.632283 140319923079040 deprecation_wrapper.py:119] From /usr/local/lib/python3.6/dist-packages/keras/backend/tensorflow_backend.py:74: The name tf.get_default_graph is deprecated. Please use tf.compat.v1.get_default_graph instead.\n",
            "\n",
            "W0815 17:28:58.662808 140319923079040 deprecation_wrapper.py:119] From /usr/local/lib/python3.6/dist-packages/keras/backend/tensorflow_backend.py:4138: The name tf.random_uniform is deprecated. Please use tf.random.uniform instead.\n",
            "\n",
            "W0815 17:28:58.677361 140319923079040 deprecation_wrapper.py:119] From /usr/local/lib/python3.6/dist-packages/keras/backend/tensorflow_backend.py:174: The name tf.get_default_session is deprecated. Please use tf.compat.v1.get_default_session instead.\n",
            "\n",
            "W0815 17:28:58.678355 140319923079040 deprecation_wrapper.py:119] From /usr/local/lib/python3.6/dist-packages/keras/backend/tensorflow_backend.py:181: The name tf.ConfigProto is deprecated. Please use tf.compat.v1.ConfigProto instead.\n",
            "\n",
            "W0815 17:28:58.679264 140319923079040 deprecation_wrapper.py:119] From /usr/local/lib/python3.6/dist-packages/keras/backend/tensorflow_backend.py:186: The name tf.Session is deprecated. Please use tf.compat.v1.Session instead.\n",
            "\n"
          ],
          "name": "stderr"
        },
        {
          "output_type": "stream",
          "text": [
            "<keras.layers.embeddings.Embedding object at 0x7f9e9030feb8>\n"
          ],
          "name": "stdout"
        }
      ]
    },
    {
      "cell_type": "code",
      "metadata": {
        "id": "HCyEp2r2zIFh",
        "colab_type": "code",
        "colab": {}
      },
      "source": [
        "def toxicity(input_shape, word_to_vec_map, word_to_index):\n",
        "    sentence_indices = Input(input_shape, dtype='int32')\n",
        "    embedding_layer = pretrained_embedding_layer(word_to_vec_map, word_to_index)\n",
        "    embeddings = embedding_layer(sentence_indices) \n",
        "    X = LSTM(256, return_sequences=True)(embeddings)\n",
        "    X = Dropout(0.5)(X)\n",
        "    X = LSTM(256, return_sequences=False)(X)\n",
        "    X = Dropout(0.5)(X)\n",
        "    X = Dense(1)(X)\n",
        "    X =  Activation('sigmoid')(X)\n",
        "    model = Model(inputs=sentence_indices, outputs=X)\n",
        "    \n",
        "    return model"
      ],
      "execution_count": 0,
      "outputs": []
    },
    {
      "cell_type": "code",
      "metadata": {
        "id": "E284FRZKz4OH",
        "colab_type": "code",
        "outputId": "f368375e-b2d3-43b6-8995-7db47c115fa1",
        "colab": {
          "base_uri": "https://localhost:8080/",
          "height": 408
        }
      },
      "source": [
        "model = toxicity((None,), word_to_vec_map, word_to_index)\n",
        "model.summary()"
      ],
      "execution_count": 43,
      "outputs": [
        {
          "output_type": "stream",
          "text": [
            "_________________________________________________________________\n",
            "Layer (type)                 Output Shape              Param #   \n",
            "=================================================================\n",
            "input_2 (InputLayer)         (None, None)              0         \n",
            "_________________________________________________________________\n",
            "embedding_3 (Embedding)      (None, None, 100)         40000100  \n",
            "_________________________________________________________________\n",
            "lstm_3 (LSTM)                (None, None, 256)         365568    \n",
            "_________________________________________________________________\n",
            "dropout_3 (Dropout)          (None, None, 256)         0         \n",
            "_________________________________________________________________\n",
            "lstm_4 (LSTM)                (None, 256)               525312    \n",
            "_________________________________________________________________\n",
            "dropout_4 (Dropout)          (None, 256)               0         \n",
            "_________________________________________________________________\n",
            "dense_2 (Dense)              (None, 1)                 257       \n",
            "_________________________________________________________________\n",
            "activation_2 (Activation)    (None, 1)                 0         \n",
            "=================================================================\n",
            "Total params: 40,891,237\n",
            "Trainable params: 891,137\n",
            "Non-trainable params: 40,000,100\n",
            "_________________________________________________________________\n"
          ],
          "name": "stdout"
        }
      ]
    },
    {
      "cell_type": "code",
      "metadata": {
        "id": "w514oXAc0lpJ",
        "colab_type": "code",
        "colab": {}
      },
      "source": [
        "model.compile(loss='binary_crossentropy', optimizer='adam', metrics=['accuracy'])"
      ],
      "execution_count": 0,
      "outputs": []
    },
    {
      "cell_type": "code",
      "metadata": {
        "id": "4kQTIYW81Low",
        "colab_type": "code",
        "outputId": "01b357b5-b493-41f7-c632-52e673810f8d",
        "colab": {
          "base_uri": "https://localhost:8080/",
          "height": 221
        }
      },
      "source": [
        "model.fit(X_train_indices, y_train,validation_data=(X_test_indices, y_test), epochs = 5,\n",
        "          batch_size = 256, shuffle=True)"
      ],
      "execution_count": 45,
      "outputs": [
        {
          "output_type": "stream",
          "text": [
            "Train on 230934 samples, validate on 57734 samples\n",
            "Epoch 1/5\n",
            "230934/230934 [==============================] - 119s 514us/step - loss: 0.4529 - acc: 0.7860 - val_loss: 0.4090 - val_acc: 0.8141\n",
            "Epoch 2/5\n",
            "230934/230934 [==============================] - 117s 509us/step - loss: 0.3895 - acc: 0.8252 - val_loss: 0.3802 - val_acc: 0.8274\n",
            "Epoch 3/5\n",
            "230934/230934 [==============================] - 117s 509us/step - loss: 0.3699 - acc: 0.8350 - val_loss: 0.3733 - val_acc: 0.8358\n",
            "Epoch 4/5\n",
            "230934/230934 [==============================] - 116s 500us/step - loss: 0.3562 - acc: 0.8426 - val_loss: 0.3693 - val_acc: 0.8392\n",
            "Epoch 5/5\n",
            "230934/230934 [==============================] - 116s 504us/step - loss: 0.3433 - acc: 0.8493 - val_loss: 0.3580 - val_acc: 0.8416\n"
          ],
          "name": "stdout"
        },
        {
          "output_type": "execute_result",
          "data": {
            "text/plain": [
              "<keras.callbacks.History at 0x7f9e9231f080>"
            ]
          },
          "metadata": {
            "tags": []
          },
          "execution_count": 45
        }
      ]
    },
    {
      "cell_type": "code",
      "metadata": {
        "id": "t_2vAVsrGiiF",
        "colab_type": "code",
        "outputId": "53c78224-1762-478b-c19a-c9789bc63a00",
        "colab": {
          "base_uri": "https://localhost:8080/",
          "height": 34
        }
      },
      "source": [
        "model_json = model.to_json()\n",
        "with open(\"/content/drive/My Drive/toxicity/lstm.json\", \"w\") as json_file:\n",
        "    json_file.write(model_json)\n",
        "\n",
        "model.save_weights(\"/content/drive/My Drive/toxicity/lstm.h5\")\n",
        "print(\"Saved model to disk\")"
      ],
      "execution_count": 46,
      "outputs": [
        {
          "output_type": "stream",
          "text": [
            "Saved model to disk\n"
          ],
          "name": "stdout"
        }
      ]
    },
    {
      "cell_type": "code",
      "metadata": {
        "id": "83s0pemiG43S",
        "colab_type": "code",
        "outputId": "86edb851-9778-41c9-c0e1-d3516a3a315f",
        "colab": {
          "base_uri": "https://localhost:8080/",
          "height": 34
        }
      },
      "source": [
        "from keras.models import model_from_json\n",
        "json_file = open('/content/drive/My Drive/toxicity/lstm.json', 'r')\n",
        "loaded_model_json = json_file.read()\n",
        "json_file.close()\n",
        "loaded_model = model_from_json(loaded_model_json)\n",
        "loaded_model.load_weights(\"/content/drive/My Drive/toxicity/lstm.h5\")\n",
        "print(\"Loaded model from disk\")\n",
        "\n",
        "loaded_model.compile(loss='binary_crossentropy', optimizer='adam', metrics=['accuracy'])"
      ],
      "execution_count": 47,
      "outputs": [
        {
          "output_type": "stream",
          "text": [
            "Loaded model from disk\n"
          ],
          "name": "stdout"
        }
      ]
    },
    {
      "cell_type": "code",
      "metadata": {
        "id": "EVXBqQElAXyO",
        "colab_type": "code",
        "colab": {}
      },
      "source": [
        "def text_sentence_to_indices(text_sentence, word_to_index):\n",
        "    tmp = text_sentence.translate(str.maketrans('','',string.punctuation)).lower().split()\n",
        "    j = 0\n",
        "    X_indices = np.zeros((1, len(tmp)))\n",
        "    for w in tmp:\n",
        "      try:\n",
        "        X_indices[0, j] = word_to_index[w]\n",
        "        j = j+1\n",
        "        #print(w)\n",
        "      except KeyError:\n",
        "        #print(w)\n",
        "        pass\n",
        "            \n",
        "    \n",
        "    return X_indices"
      ],
      "execution_count": 0,
      "outputs": []
    },
    {
      "cell_type": "code",
      "metadata": {
        "id": "0TRu7MxfDdCR",
        "colab_type": "code",
        "outputId": "4ca2e072-1819-4fb9-d339-6187d0184849",
        "colab": {
          "base_uri": "https://localhost:8080/",
          "height": 34
        }
      },
      "source": [
        "s = \"I am learning NLP\"\n",
        "ind = text_sentence_to_indices(s,word_to_index)\n",
        "print(ind)"
      ],
      "execution_count": 70,
      "outputs": [
        {
          "output_type": "stream",
          "text": [
            "[[185457.  52943. 219115. 262255.]]\n"
          ],
          "name": "stdout"
        }
      ]
    },
    {
      "cell_type": "code",
      "metadata": {
        "id": "8v6YzHGoD9y2",
        "colab_type": "code",
        "outputId": "5d9efd01-45d3-4a83-a26f-a95797f644ca",
        "colab": {
          "base_uri": "https://localhost:8080/",
          "height": 34
        }
      },
      "source": [
        "loaded_model.predict(ind)"
      ],
      "execution_count": 71,
      "outputs": [
        {
          "output_type": "execute_result",
          "data": {
            "text/plain": [
              "array([[0.22894216]], dtype=float32)"
            ]
          },
          "metadata": {
            "tags": []
          },
          "execution_count": 71
        }
      ]
    },
    {
      "cell_type": "code",
      "metadata": {
        "id": "a8BFUtw-2ePV",
        "colab_type": "code",
        "outputId": "a2a85734-5eb7-4d0e-cf86-3b209970ff22",
        "colab": {
          "base_uri": "https://localhost:8080/",
          "height": 34
        }
      },
      "source": [
        "s = \"What an asshole!\"\n",
        "ind = text_sentence_to_indices(s,word_to_index)\n",
        "print(ind)"
      ],
      "execution_count": 84,
      "outputs": [
        {
          "output_type": "stream",
          "text": [
            "[[386307.  54273.  61650.]]\n"
          ],
          "name": "stdout"
        }
      ]
    },
    {
      "cell_type": "code",
      "metadata": {
        "id": "V1ILRPUA2h92",
        "colab_type": "code",
        "outputId": "a595092c-11f1-4c97-b5e3-8bc17fab404c",
        "colab": {
          "base_uri": "https://localhost:8080/",
          "height": 34
        }
      },
      "source": [
        "loaded_model.predict(ind)"
      ],
      "execution_count": 85,
      "outputs": [
        {
          "output_type": "execute_result",
          "data": {
            "text/plain": [
              "array([[0.94075763]], dtype=float32)"
            ]
          },
          "metadata": {
            "tags": []
          },
          "execution_count": 85
        }
      ]
    }
  ]
}